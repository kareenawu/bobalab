{
  "nbformat": 4,
  "nbformat_minor": 0,
  "metadata": {
    "colab": {
      "provenance": [],
      "collapsed_sections": [
        "IVKS788VLGuF",
        "jIWOQxdULU3H",
        "sFYhhwMkNM99"
      ]
    },
    "kernelspec": {
      "name": "python3",
      "display_name": "Python 3"
    },
    "language_info": {
      "name": "python"
    }
  },
  "cells": [
    {
      "cell_type": "code",
      "execution_count": null,
      "metadata": {
        "id": "xdd9F5AQ3ecp"
      },
      "outputs": [],
      "source": [
        "import matplotlib.pyplot as plt\n",
        "import numpy as np\n",
        "import pandas as pd\n",
        "import seaborn as sns\n",
        "import scipy.stats\n",
        "#from scipy.stats import norm\n",
        "import sklearn\n",
        "import statsmodels.api as sm\n",
        "\n",
        "import datetime\n",
        "%matplotlib inline\n",
        "\n",
        "#sns.set(style=\"dark\")\n",
        "plt.style.use(\"ggplot\")"
      ]
    },
    {
      "cell_type": "code",
      "source": [
        "pip install pyperclip"
      ],
      "metadata": {
        "colab": {
          "base_uri": "https://localhost:8080/"
        },
        "id": "yeG6vB-2vabo",
        "outputId": "ad396490-339f-4c22-d831-fd52c64171b8"
      },
      "execution_count": null,
      "outputs": [
        {
          "output_type": "stream",
          "name": "stdout",
          "text": [
            "Looking in indexes: https://pypi.org/simple, https://us-python.pkg.dev/colab-wheels/public/simple/\n",
            "Collecting pyperclip\n",
            "  Downloading pyperclip-1.8.2.tar.gz (20 kB)\n",
            "  Preparing metadata (setup.py) ... \u001b[?25l\u001b[?25hdone\n",
            "Building wheels for collected packages: pyperclip\n",
            "  Building wheel for pyperclip (setup.py) ... \u001b[?25l\u001b[?25hdone\n",
            "  Created wheel for pyperclip: filename=pyperclip-1.8.2-py3-none-any.whl size=11135 sha256=cc98cf5a3eae41bcb8fbfaa9b9775a1c70ee7ec7fba42a16cb734baee68cdce2\n",
            "  Stored in directory: /root/.cache/pip/wheels/0c/09/9e/49e21a6840ef7955b06d47394afef0058f0378c0914e48b8b8\n",
            "Successfully built pyperclip\n",
            "Installing collected packages: pyperclip\n",
            "Successfully installed pyperclip-1.8.2\n"
          ]
        }
      ]
    },
    {
      "cell_type": "code",
      "source": [
        "import pyperclip"
      ],
      "metadata": {
        "id": "vToUHiKBveEn"
      },
      "execution_count": null,
      "outputs": []
    },
    {
      "cell_type": "code",
      "source": [
        "from google.colab import files\n",
        "uploaded = files.upload()"
      ],
      "metadata": {
        "colab": {
          "base_uri": "https://localhost:8080/",
          "height": 179
        },
        "id": "dOBWNilQ5u_C",
        "outputId": "c6d8e123-a07f-4e76-9827-dc0e24d763e6"
      },
      "execution_count": null,
      "outputs": [
        {
          "output_type": "display_data",
          "data": {
            "text/plain": [
              "<IPython.core.display.HTML object>"
            ],
            "text/html": [
              "\n",
              "     <input type=\"file\" id=\"files-34727c14-24bf-47ea-8e56-063dbb495aec\" name=\"files[]\" multiple disabled\n",
              "        style=\"border:none\" />\n",
              "     <output id=\"result-34727c14-24bf-47ea-8e56-063dbb495aec\">\n",
              "      Upload widget is only available when the cell has been executed in the\n",
              "      current browser session. Please rerun this cell to enable.\n",
              "      </output>\n",
              "      <script>// Copyright 2017 Google LLC\n",
              "//\n",
              "// Licensed under the Apache License, Version 2.0 (the \"License\");\n",
              "// you may not use this file except in compliance with the License.\n",
              "// You may obtain a copy of the License at\n",
              "//\n",
              "//      http://www.apache.org/licenses/LICENSE-2.0\n",
              "//\n",
              "// Unless required by applicable law or agreed to in writing, software\n",
              "// distributed under the License is distributed on an \"AS IS\" BASIS,\n",
              "// WITHOUT WARRANTIES OR CONDITIONS OF ANY KIND, either express or implied.\n",
              "// See the License for the specific language governing permissions and\n",
              "// limitations under the License.\n",
              "\n",
              "/**\n",
              " * @fileoverview Helpers for google.colab Python module.\n",
              " */\n",
              "(function(scope) {\n",
              "function span(text, styleAttributes = {}) {\n",
              "  const element = document.createElement('span');\n",
              "  element.textContent = text;\n",
              "  for (const key of Object.keys(styleAttributes)) {\n",
              "    element.style[key] = styleAttributes[key];\n",
              "  }\n",
              "  return element;\n",
              "}\n",
              "\n",
              "// Max number of bytes which will be uploaded at a time.\n",
              "const MAX_PAYLOAD_SIZE = 100 * 1024;\n",
              "\n",
              "function _uploadFiles(inputId, outputId) {\n",
              "  const steps = uploadFilesStep(inputId, outputId);\n",
              "  const outputElement = document.getElementById(outputId);\n",
              "  // Cache steps on the outputElement to make it available for the next call\n",
              "  // to uploadFilesContinue from Python.\n",
              "  outputElement.steps = steps;\n",
              "\n",
              "  return _uploadFilesContinue(outputId);\n",
              "}\n",
              "\n",
              "// This is roughly an async generator (not supported in the browser yet),\n",
              "// where there are multiple asynchronous steps and the Python side is going\n",
              "// to poll for completion of each step.\n",
              "// This uses a Promise to block the python side on completion of each step,\n",
              "// then passes the result of the previous step as the input to the next step.\n",
              "function _uploadFilesContinue(outputId) {\n",
              "  const outputElement = document.getElementById(outputId);\n",
              "  const steps = outputElement.steps;\n",
              "\n",
              "  const next = steps.next(outputElement.lastPromiseValue);\n",
              "  return Promise.resolve(next.value.promise).then((value) => {\n",
              "    // Cache the last promise value to make it available to the next\n",
              "    // step of the generator.\n",
              "    outputElement.lastPromiseValue = value;\n",
              "    return next.value.response;\n",
              "  });\n",
              "}\n",
              "\n",
              "/**\n",
              " * Generator function which is called between each async step of the upload\n",
              " * process.\n",
              " * @param {string} inputId Element ID of the input file picker element.\n",
              " * @param {string} outputId Element ID of the output display.\n",
              " * @return {!Iterable<!Object>} Iterable of next steps.\n",
              " */\n",
              "function* uploadFilesStep(inputId, outputId) {\n",
              "  const inputElement = document.getElementById(inputId);\n",
              "  inputElement.disabled = false;\n",
              "\n",
              "  const outputElement = document.getElementById(outputId);\n",
              "  outputElement.innerHTML = '';\n",
              "\n",
              "  const pickedPromise = new Promise((resolve) => {\n",
              "    inputElement.addEventListener('change', (e) => {\n",
              "      resolve(e.target.files);\n",
              "    });\n",
              "  });\n",
              "\n",
              "  const cancel = document.createElement('button');\n",
              "  inputElement.parentElement.appendChild(cancel);\n",
              "  cancel.textContent = 'Cancel upload';\n",
              "  const cancelPromise = new Promise((resolve) => {\n",
              "    cancel.onclick = () => {\n",
              "      resolve(null);\n",
              "    };\n",
              "  });\n",
              "\n",
              "  // Wait for the user to pick the files.\n",
              "  const files = yield {\n",
              "    promise: Promise.race([pickedPromise, cancelPromise]),\n",
              "    response: {\n",
              "      action: 'starting',\n",
              "    }\n",
              "  };\n",
              "\n",
              "  cancel.remove();\n",
              "\n",
              "  // Disable the input element since further picks are not allowed.\n",
              "  inputElement.disabled = true;\n",
              "\n",
              "  if (!files) {\n",
              "    return {\n",
              "      response: {\n",
              "        action: 'complete',\n",
              "      }\n",
              "    };\n",
              "  }\n",
              "\n",
              "  for (const file of files) {\n",
              "    const li = document.createElement('li');\n",
              "    li.append(span(file.name, {fontWeight: 'bold'}));\n",
              "    li.append(span(\n",
              "        `(${file.type || 'n/a'}) - ${file.size} bytes, ` +\n",
              "        `last modified: ${\n",
              "            file.lastModifiedDate ? file.lastModifiedDate.toLocaleDateString() :\n",
              "                                    'n/a'} - `));\n",
              "    const percent = span('0% done');\n",
              "    li.appendChild(percent);\n",
              "\n",
              "    outputElement.appendChild(li);\n",
              "\n",
              "    const fileDataPromise = new Promise((resolve) => {\n",
              "      const reader = new FileReader();\n",
              "      reader.onload = (e) => {\n",
              "        resolve(e.target.result);\n",
              "      };\n",
              "      reader.readAsArrayBuffer(file);\n",
              "    });\n",
              "    // Wait for the data to be ready.\n",
              "    let fileData = yield {\n",
              "      promise: fileDataPromise,\n",
              "      response: {\n",
              "        action: 'continue',\n",
              "      }\n",
              "    };\n",
              "\n",
              "    // Use a chunked sending to avoid message size limits. See b/62115660.\n",
              "    let position = 0;\n",
              "    do {\n",
              "      const length = Math.min(fileData.byteLength - position, MAX_PAYLOAD_SIZE);\n",
              "      const chunk = new Uint8Array(fileData, position, length);\n",
              "      position += length;\n",
              "\n",
              "      const base64 = btoa(String.fromCharCode.apply(null, chunk));\n",
              "      yield {\n",
              "        response: {\n",
              "          action: 'append',\n",
              "          file: file.name,\n",
              "          data: base64,\n",
              "        },\n",
              "      };\n",
              "\n",
              "      let percentDone = fileData.byteLength === 0 ?\n",
              "          100 :\n",
              "          Math.round((position / fileData.byteLength) * 100);\n",
              "      percent.textContent = `${percentDone}% done`;\n",
              "\n",
              "    } while (position < fileData.byteLength);\n",
              "  }\n",
              "\n",
              "  // All done.\n",
              "  yield {\n",
              "    response: {\n",
              "      action: 'complete',\n",
              "    }\n",
              "  };\n",
              "}\n",
              "\n",
              "scope.google = scope.google || {};\n",
              "scope.google.colab = scope.google.colab || {};\n",
              "scope.google.colab._files = {\n",
              "  _uploadFiles,\n",
              "  _uploadFilesContinue,\n",
              "};\n",
              "})(self);\n",
              "</script> "
            ]
          },
          "metadata": {}
        },
        {
          "output_type": "stream",
          "name": "stdout",
          "text": [
            "Saving driverpay.csv to driverpay.csv\n",
            "Saving rideduration.csv to rideduration.csv\n",
            "Saving speed.csv to speed.csv\n",
            "Saving waitingtime.csv to waitingtime.csv\n"
          ]
        }
      ]
    },
    {
      "cell_type": "code",
      "source": [
        "#Loads CSVs of data\n",
        "\n",
        "#Driver pay is in $\n",
        "#Ride duration is in seconds\n",
        "#Speed is in mph\n",
        "#Waiting time is in seconds\n",
        "\n",
        "driverpay = pd.read_csv('driverpay.csv')\n",
        "rideduration = pd.read_csv('rideduration.csv')\n",
        "speed = pd.read_csv('speed.csv')\n",
        "waitingtime = pd.read_csv('waitingtime.csv')"
      ],
      "metadata": {
        "id": "-ZPV25PV5vWI"
      },
      "execution_count": null,
      "outputs": []
    },
    {
      "cell_type": "code",
      "source": [
        "#Gets the mean and SDs of every variable of interest\n",
        "\n",
        "driverpay_avg = driverpay.groupby('Company').mean().round(0).reset_index()\n",
        "rideduration_avg = rideduration.groupby('Company').mean().round(0).reset_index()\n",
        "speed_avg = speed.groupby('Company').mean().round(0).reset_index()\n",
        "waitingtime_avg = waitingtime.groupby('Company').mean().round(0).reset_index()\n"
      ],
      "metadata": {
        "colab": {
          "base_uri": "https://localhost:8080/",
          "height": 112
        },
        "id": "E8LKRXqu5_Xs",
        "outputId": "2cd84129-ab69-4998-dfbe-3452d2ba4633"
      },
      "execution_count": null,
      "outputs": [
        {
          "output_type": "execute_result",
          "data": {
            "text/plain": [
              "  Company   Mean     SD\n",
              "0    Uber  296.0  188.0\n",
              "1     Via  635.0  295.0"
            ],
            "text/html": [
              "\n",
              "  <div id=\"df-9a00c755-d151-445f-ba40-3c37e49e7444\">\n",
              "    <div class=\"colab-df-container\">\n",
              "      <div>\n",
              "<style scoped>\n",
              "    .dataframe tbody tr th:only-of-type {\n",
              "        vertical-align: middle;\n",
              "    }\n",
              "\n",
              "    .dataframe tbody tr th {\n",
              "        vertical-align: top;\n",
              "    }\n",
              "\n",
              "    .dataframe thead th {\n",
              "        text-align: right;\n",
              "    }\n",
              "</style>\n",
              "<table border=\"1\" class=\"dataframe\">\n",
              "  <thead>\n",
              "    <tr style=\"text-align: right;\">\n",
              "      <th></th>\n",
              "      <th>Company</th>\n",
              "      <th>Mean</th>\n",
              "      <th>SD</th>\n",
              "    </tr>\n",
              "  </thead>\n",
              "  <tbody>\n",
              "    <tr>\n",
              "      <th>0</th>\n",
              "      <td>Uber</td>\n",
              "      <td>296.0</td>\n",
              "      <td>188.0</td>\n",
              "    </tr>\n",
              "    <tr>\n",
              "      <th>1</th>\n",
              "      <td>Via</td>\n",
              "      <td>635.0</td>\n",
              "      <td>295.0</td>\n",
              "    </tr>\n",
              "  </tbody>\n",
              "</table>\n",
              "</div>\n",
              "      <button class=\"colab-df-convert\" onclick=\"convertToInteractive('df-9a00c755-d151-445f-ba40-3c37e49e7444')\"\n",
              "              title=\"Convert this dataframe to an interactive table.\"\n",
              "              style=\"display:none;\">\n",
              "        \n",
              "  <svg xmlns=\"http://www.w3.org/2000/svg\" height=\"24px\"viewBox=\"0 0 24 24\"\n",
              "       width=\"24px\">\n",
              "    <path d=\"M0 0h24v24H0V0z\" fill=\"none\"/>\n",
              "    <path d=\"M18.56 5.44l.94 2.06.94-2.06 2.06-.94-2.06-.94-.94-2.06-.94 2.06-2.06.94zm-11 1L8.5 8.5l.94-2.06 2.06-.94-2.06-.94L8.5 2.5l-.94 2.06-2.06.94zm10 10l.94 2.06.94-2.06 2.06-.94-2.06-.94-.94-2.06-.94 2.06-2.06.94z\"/><path d=\"M17.41 7.96l-1.37-1.37c-.4-.4-.92-.59-1.43-.59-.52 0-1.04.2-1.43.59L10.3 9.45l-7.72 7.72c-.78.78-.78 2.05 0 2.83L4 21.41c.39.39.9.59 1.41.59.51 0 1.02-.2 1.41-.59l7.78-7.78 2.81-2.81c.8-.78.8-2.07 0-2.86zM5.41 20L4 18.59l7.72-7.72 1.47 1.35L5.41 20z\"/>\n",
              "  </svg>\n",
              "      </button>\n",
              "      \n",
              "  <style>\n",
              "    .colab-df-container {\n",
              "      display:flex;\n",
              "      flex-wrap:wrap;\n",
              "      gap: 12px;\n",
              "    }\n",
              "\n",
              "    .colab-df-convert {\n",
              "      background-color: #E8F0FE;\n",
              "      border: none;\n",
              "      border-radius: 50%;\n",
              "      cursor: pointer;\n",
              "      display: none;\n",
              "      fill: #1967D2;\n",
              "      height: 32px;\n",
              "      padding: 0 0 0 0;\n",
              "      width: 32px;\n",
              "    }\n",
              "\n",
              "    .colab-df-convert:hover {\n",
              "      background-color: #E2EBFA;\n",
              "      box-shadow: 0px 1px 2px rgba(60, 64, 67, 0.3), 0px 1px 3px 1px rgba(60, 64, 67, 0.15);\n",
              "      fill: #174EA6;\n",
              "    }\n",
              "\n",
              "    [theme=dark] .colab-df-convert {\n",
              "      background-color: #3B4455;\n",
              "      fill: #D2E3FC;\n",
              "    }\n",
              "\n",
              "    [theme=dark] .colab-df-convert:hover {\n",
              "      background-color: #434B5C;\n",
              "      box-shadow: 0px 1px 3px 1px rgba(0, 0, 0, 0.15);\n",
              "      filter: drop-shadow(0px 1px 2px rgba(0, 0, 0, 0.3));\n",
              "      fill: #FFFFFF;\n",
              "    }\n",
              "  </style>\n",
              "\n",
              "      <script>\n",
              "        const buttonEl =\n",
              "          document.querySelector('#df-9a00c755-d151-445f-ba40-3c37e49e7444 button.colab-df-convert');\n",
              "        buttonEl.style.display =\n",
              "          google.colab.kernel.accessAllowed ? 'block' : 'none';\n",
              "\n",
              "        async function convertToInteractive(key) {\n",
              "          const element = document.querySelector('#df-9a00c755-d151-445f-ba40-3c37e49e7444');\n",
              "          const dataTable =\n",
              "            await google.colab.kernel.invokeFunction('convertToInteractive',\n",
              "                                                     [key], {});\n",
              "          if (!dataTable) return;\n",
              "\n",
              "          const docLinkHtml = 'Like what you see? Visit the ' +\n",
              "            '<a target=\"_blank\" href=https://colab.research.google.com/notebooks/data_table.ipynb>data table notebook</a>'\n",
              "            + ' to learn more about interactive tables.';\n",
              "          element.innerHTML = '';\n",
              "          dataTable['output_type'] = 'display_data';\n",
              "          await google.colab.output.renderOutput(dataTable, element);\n",
              "          const docLink = document.createElement('div');\n",
              "          docLink.innerHTML = docLinkHtml;\n",
              "          element.appendChild(docLink);\n",
              "        }\n",
              "      </script>\n",
              "    </div>\n",
              "  </div>\n",
              "  "
            ]
          },
          "metadata": {},
          "execution_count": 38
        }
      ]
    },
    {
      "cell_type": "markdown",
      "source": [
        "# Uber Distributions"
      ],
      "metadata": {
        "id": "8eoBMUpvAyWb"
      }
    },
    {
      "cell_type": "code",
      "source": [
        "#sets size for amount we want to pull for each\n",
        "n = 400"
      ],
      "metadata": {
        "id": "11Vrl7eALMXq"
      },
      "execution_count": null,
      "outputs": []
    },
    {
      "cell_type": "markdown",
      "source": [
        "### Driver Pay Arrays"
      ],
      "metadata": {
        "id": "IVKS788VLGuF"
      }
    },
    {
      "cell_type": "code",
      "source": [
        "#Generates 2 arrays: 1 array for \"short\" driver pays and one for \"long\" driver pays\n",
        "#short is anything below the mean, and long is anything above the mean\n",
        "\n",
        "np.random.seed(50)\n",
        "\n",
        "driverpay_mean = 16.54\n",
        "driverpay_SD = 16.72\n",
        "\n",
        "driverpay_short, driverpay_long = [], []\n",
        "\n",
        "distribution = np.random.normal(driverpay_mean, driverpay_SD, n).round(2)\n",
        "for i in distribution:\n",
        "  if i >= 0:\n",
        "    if i < driverpay_mean:\n",
        "      driverpay_short.append(i)\n",
        "    else:\n",
        "      driverpay_long.append(i)\n",
        "\n",
        "driverpay_long"
      ],
      "metadata": {
        "colab": {
          "base_uri": "https://localhost:8080/"
        },
        "id": "o4VuieGUKnKC",
        "outputId": "da6855c0-2e74-4ff6-bfe8-7d3234198f39"
      },
      "execution_count": null,
      "outputs": [
        {
          "output_type": "execute_result",
          "data": {
            "text/plain": [
              "[40.15,\n",
              " 34.43,\n",
              " 18.65,\n",
              " 30.96,\n",
              " 28.19,\n",
              " 43.27,\n",
              " 71.95,\n",
              " 33.06,\n",
              " 18.61,\n",
              " 28.96,\n",
              " 19.02,\n",
              " 18.87,\n",
              " 21.31,\n",
              " 45.15,\n",
              " 28.08,\n",
              " 34.85,\n",
              " 38.92,\n",
              " 24.67,\n",
              " 29.14,\n",
              " 22.62,\n",
              " 39.5,\n",
              " 22.82,\n",
              " 28.96,\n",
              " 30.88,\n",
              " 22.87,\n",
              " 27.98,\n",
              " 61.77,\n",
              " 18.14,\n",
              " 25.31,\n",
              " 30.18,\n",
              " 17.4,\n",
              " 21.19,\n",
              " 18.0,\n",
              " 17.11,\n",
              " 29.02,\n",
              " 35.07,\n",
              " 17.19,\n",
              " 20.26,\n",
              " 20.75,\n",
              " 28.38,\n",
              " 24.8,\n",
              " 41.14,\n",
              " 51.08,\n",
              " 34.73,\n",
              " 30.0,\n",
              " 37.12,\n",
              " 22.4,\n",
              " 18.84,\n",
              " 28.72,\n",
              " 43.66,\n",
              " 41.98,\n",
              " 16.63,\n",
              " 31.03,\n",
              " 17.33,\n",
              " 21.5,\n",
              " 30.62,\n",
              " 19.89,\n",
              " 30.73,\n",
              " 46.77,\n",
              " 31.09,\n",
              " 29.06,\n",
              " 28.4,\n",
              " 21.83,\n",
              " 23.63,\n",
              " 35.98,\n",
              " 57.74,\n",
              " 39.66,\n",
              " 29.65,\n",
              " 19.25,\n",
              " 37.65,\n",
              " 43.88,\n",
              " 22.09,\n",
              " 27.58,\n",
              " 41.95,\n",
              " 16.57,\n",
              " 22.08,\n",
              " 31.34,\n",
              " 16.71,\n",
              " 19.14,\n",
              " 59.67,\n",
              " 16.86,\n",
              " 28.99,\n",
              " 17.34,\n",
              " 28.67,\n",
              " 61.89,\n",
              " 17.91,\n",
              " 17.62,\n",
              " 46.16,\n",
              " 39.45,\n",
              " 25.99,\n",
              " 17.5,\n",
              " 20.58,\n",
              " 24.67,\n",
              " 24.72,\n",
              " 27.16,\n",
              " 29.94,\n",
              " 23.88,\n",
              " 19.14,\n",
              " 41.57,\n",
              " 30.55,\n",
              " 20.48,\n",
              " 42.92,\n",
              " 45.64,\n",
              " 34.76,\n",
              " 36.97,\n",
              " 24.42,\n",
              " 25.98,\n",
              " 25.99,\n",
              " 28.49,\n",
              " 37.95,\n",
              " 22.81,\n",
              " 33.29,\n",
              " 23.7,\n",
              " 40.94,\n",
              " 22.43,\n",
              " 23.38,\n",
              " 29.27,\n",
              " 22.96,\n",
              " 35.34,\n",
              " 23.36,\n",
              " 27.94,\n",
              " 47.44,\n",
              " 31.47,\n",
              " 53.36,\n",
              " 31.54,\n",
              " 26.2,\n",
              " 27.15,\n",
              " 28.07,\n",
              " 23.25,\n",
              " 55.44,\n",
              " 31.03,\n",
              " 27.25,\n",
              " 30.69,\n",
              " 27.84,\n",
              " 31.92,\n",
              " 30.05,\n",
              " 17.49,\n",
              " 23.92,\n",
              " 21.48,\n",
              " 24.6,\n",
              " 30.68,\n",
              " 35.73,\n",
              " 21.54,\n",
              " 34.9,\n",
              " 17.43,\n",
              " 26.14,\n",
              " 30.25,\n",
              " 37.93,\n",
              " 30.16,\n",
              " 19.04,\n",
              " 48.06,\n",
              " 33.79,\n",
              " 18.47,\n",
              " 26.42,\n",
              " 20.84,\n",
              " 47.03,\n",
              " 20.5,\n",
              " 26.44,\n",
              " 20.86,\n",
              " 40.55,\n",
              " 20.59,\n",
              " 26.16,\n",
              " 43.34,\n",
              " 23.1,\n",
              " 28.72,\n",
              " 20.28,\n",
              " 20.14,\n",
              " 37.57,\n",
              " 34.45,\n",
              " 27.77,\n",
              " 19.46,\n",
              " 47.68,\n",
              " 24.73,\n",
              " 21.61,\n",
              " 18.08,\n",
              " 40.68,\n",
              " 17.93,\n",
              " 32.52,\n",
              " 35.85,\n",
              " 16.8,\n",
              " 43.8,\n",
              " 18.29,\n",
              " 32.17,\n",
              " 19.51,\n",
              " 30.63,\n",
              " 26.25,\n",
              " 27.35,\n",
              " 21.96]"
            ]
          },
          "metadata": {},
          "execution_count": 69
        }
      ]
    },
    {
      "cell_type": "markdown",
      "source": [
        "### Ride Duration Arrays"
      ],
      "metadata": {
        "id": "jIWOQxdULU3H"
      }
    },
    {
      "cell_type": "code",
      "source": [
        "#Generates 2 arrays: 1 array for \"short\" ride durations and one for \"long\" ride durations\n",
        "#short is anything below the mean, and long is anything above the mean\n",
        "\n",
        "np.random.seed(50)\n",
        "\n",
        "rideduration_short, rideduration_long = [], []\n",
        "\n",
        "distribution = np.random.normal(rideduration_avg.Mean.iloc[0], rideduration_avg.SD.iloc[0], n)\n",
        "\n",
        "for i in distribution:\n",
        "    if i >= 60:\n",
        "      if i < rideduration_avg.Mean.iloc[0]:\n",
        "        rideduration_short.append(i)\n",
        "      else:\n",
        "        rideduration_long.append(i)\n",
        "\n",
        "rideduration_short = (np.asarray(rideduration_short)/60).round(0)\n",
        "rideduration_long = (np.asarray(rideduration_long)/60).round(0)\n",
        "\n",
        "rideduration_long"
      ],
      "metadata": {
        "colab": {
          "base_uri": "https://localhost:8080/"
        },
        "id": "Z5_cW61SLU3I",
        "outputId": "f35c2ed6-d5f8-471b-a405-85aefa4e1838"
      },
      "execution_count": null,
      "outputs": [
        {
          "output_type": "execute_result",
          "data": {
            "text/plain": [
              "array([52., 47., 35., 45., 42., 55., 78., 46., 35., 43., 35., 35., 37.,\n",
              "       56., 42., 48., 51., 40., 43., 38., 52., 38., 43., 45., 38., 42.,\n",
              "       69., 34., 40., 44., 34., 37., 34., 34., 43., 48., 34., 36., 36.,\n",
              "       43., 40., 53., 61., 48., 44., 50., 38., 35., 43., 55., 54., 33.,\n",
              "       45., 34., 37., 44., 36., 44., 57., 45., 43., 43., 37., 39., 49.,\n",
              "       66., 52., 44., 35., 50., 55., 38., 42., 54., 33., 38., 45., 33.,\n",
              "       35., 68., 33., 43., 34., 43., 70., 34., 34., 57., 51., 41., 34.,\n",
              "       36., 40., 40., 42., 44., 39., 35., 53., 44., 36., 54., 56., 48.,\n",
              "       50., 39., 41., 41., 43., 50., 38., 47., 39., 53., 38., 39., 43.,\n",
              "       38., 48., 39., 42., 58., 45., 63., 45., 41., 42., 42., 38., 64.,\n",
              "       45., 42., 44., 42., 45., 44., 34., 39., 37., 40., 44., 49., 37.,\n",
              "       48., 34., 41., 44., 50., 44., 35., 58., 47., 35., 41., 37., 58.,\n",
              "       36., 41., 37., 52., 36., 41., 55., 38., 43., 36., 36., 50., 47.,\n",
              "       42., 35., 58., 40., 37., 34., 52., 34., 46., 49., 33., 55., 34.,\n",
              "       46., 35., 44., 41., 42., 37.])"
            ]
          },
          "metadata": {},
          "execution_count": 42
        }
      ]
    },
    {
      "cell_type": "markdown",
      "source": [
        "### Speed Arrays"
      ],
      "metadata": {
        "id": "sFYhhwMkNM99"
      }
    },
    {
      "cell_type": "code",
      "source": [
        "#Generates 2 arrays: 1 array for \"short\" speeds and one for \"long\" speeds\n",
        "#short is anything below the mean, and long is anything above the mean\n",
        "\n",
        "np.random.seed(50)\n",
        "\n",
        "speed_short, speed_long = [], []\n",
        "\n",
        "distribution = np.random.normal(speed_avg.Mean.iloc[0], speed_avg.SD.iloc[0], n)\n",
        "\n",
        "for i in distribution:\n",
        "    if i >= 0:\n",
        "      if i < speed_avg.Mean.iloc[0]:\n",
        "        speed_short.append(i)\n",
        "      else:\n",
        "        speed_long.append(i)\n",
        "\n",
        "speed_short = np.asarray(speed_short).round(0)\n",
        "speed_long = np.asarray(speed_long).round(0)\n",
        "\n",
        "speed_short"
      ],
      "metadata": {
        "colab": {
          "base_uri": "https://localhost:8080/"
        },
        "outputId": "fff5b32b-6950-4e0e-bee9-254de60328ca",
        "id": "LbAIqktSNM-A"
      },
      "execution_count": null,
      "outputs": [
        {
          "output_type": "execute_result",
          "data": {
            "text/plain": [
              "array([12., 21., 17., 12., 18., 16., 13., 13., 19., 15., 19., 19., 20.,\n",
              "       19., 20., 13., 19., 17., 20., 12., 11., 20., 19., 14., 16., 21.,\n",
              "       12., 20., 15., 20., 20., 16., 19., 18., 11.,  7., 21., 20., 21.,\n",
              "       17., 19.,  6., 17., 13., 16., 18., 19., 18., 20., 20., 20., 20.,\n",
              "       16.,  6., 18., 20., 13., 11., 11., 14., 14., 14., 16., 18., 14.,\n",
              "       15., 14., 21., 17., 20., 12., 20., 14., 18., 15., 18., 17., 19.,\n",
              "       19., 17., 16., 21., 16., 18., 18., 10., 17., 16., 20., 21., 21.,\n",
              "       13., 12., 12., 15., 11., 18.,  4., 13., 13., 20., 20., 18., 21.,\n",
              "       15., 21., 20., 15., 18., 15., 19., 19., 19., 12., 13., 18., 19.,\n",
              "       21., 16., 20., 12., 14., 14., 17., 11., 18.,  9., 14., 20., 15.,\n",
              "       17., 12., 20., 12., 20., 16., 20., 19., 18., 19., 18., 16., 10.,\n",
              "       19., 18., 20., 16., 18., 14., 18., 17., 16., 18.,  9., 19.,  9.,\n",
              "       13., 14., 17., 20., 16.,  9., 17., 14., 14., 11., 10., 19., 16.,\n",
              "       20., 14., 16., 18., 15., 19., 20., 17., 17., 10., 19., 20., 17.,\n",
              "       14., 17., 20., 20., 16., 18., 20., 19., 18., 18., 13., 18., 17.,\n",
              "       16., 17., 18., 12., 19., 20., 13., 20., 18., 18., 16., 21., 17.,\n",
              "       17., 14., 16.])"
            ]
          },
          "metadata": {},
          "execution_count": 43
        }
      ]
    },
    {
      "cell_type": "markdown",
      "source": [
        "### Waiting Time Arrays"
      ],
      "metadata": {
        "id": "e-MHAmvQOivP"
      }
    },
    {
      "cell_type": "code",
      "source": [
        "#Generates 2 arrays: 1 array for \"short\" waiting times and one for \"long\" waiting times\n",
        "#short is anything below the mean, and long is anything above the mean\n",
        "\n",
        "np.random.seed(50)\n",
        "\n",
        "waitingtime_short, waitingtime_long = [], []\n",
        "\n",
        "distribution = np.random.normal(waitingtime_avg.Mean.iloc[0], waitingtime_avg.SD.iloc[0], n)\n",
        "\n",
        "for i in distribution:\n",
        "    if i >= 60 and i <= 600:\n",
        "      if i < waitingtime_avg.Mean.iloc[0]:\n",
        "        waitingtime_short.append(i)\n",
        "      else:\n",
        "        waitingtime_long.append(i)\n",
        "\n",
        "waitingtime_short = (np.asarray(waitingtime_short)/60).round(0)\n",
        "waitingtime_long = (np.asarray(waitingtime_long)/60).round(0)\n",
        "\n",
        "waitingtime_long"
      ],
      "metadata": {
        "colab": {
          "base_uri": "https://localhost:8080/"
        },
        "outputId": "428eb3df-55da-4fff-8384-40f63315e44d",
        "id": "3WNfGM5pOivY"
      },
      "execution_count": null,
      "outputs": [
        {
          "output_type": "execute_result",
          "data": {
            "text/plain": [
              "array([ 9.,  8.,  5.,  8.,  7., 10.,  8.,  5.,  7.,  5.,  5.,  6.,  7.,\n",
              "        8.,  9.,  6.,  7.,  6.,  9.,  6.,  7.,  8.,  6.,  7.,  5.,  7.,\n",
              "        7.,  5.,  6.,  5.,  5.,  7.,  8.,  5.,  6.,  6.,  7.,  6., 10.,\n",
              "        8.,  7.,  9.,  6.,  5.,  7., 10.,  5.,  8.,  5.,  6.,  8.,  6.,\n",
              "        8.,  8.,  7.,  7.,  6.,  6.,  9.,  9.,  7.,  5.,  9.,  6.,  7.,\n",
              "       10.,  5.,  6.,  8.,  5.,  5.,  5.,  7.,  5.,  7.,  5.,  5.,  9.,\n",
              "        7.,  5.,  6.,  6.,  6.,  7.,  7.,  6.,  5., 10.,  8.,  6., 10.,\n",
              "        8.,  9.,  6.,  7.,  7.,  7.,  9.,  6.,  8.,  6., 10.,  6.,  6.,\n",
              "        7.,  6.,  8.,  6.,  7.,  8.,  8.,  7.,  7.,  7.,  6.,  8.,  7.,\n",
              "        8.,  7.,  8.,  7.,  5.,  6.,  6.,  6.,  8.,  9.,  6.,  8.,  5.,\n",
              "        7.,  8.,  9.,  7.,  5.,  8.,  5.,  7.,  6.,  6.,  7.,  6.,  9.,\n",
              "        6.,  7., 10.,  6.,  7.,  6.,  6.,  9.,  8.,  7.,  5.,  6.,  6.,\n",
              "        5.,  9.,  5.,  8.,  9.,  5.,  5.,  8.,  5.,  8.,  7.,  7.,  6.])"
            ]
          },
          "metadata": {},
          "execution_count": 44
        }
      ]
    },
    {
      "cell_type": "markdown",
      "source": [
        "# Via Distributions"
      ],
      "metadata": {
        "id": "98eseHjHPK_j"
      }
    },
    {
      "cell_type": "code",
      "source": [
        "#sets size for amount we want to pull for each\n",
        "n = 500"
      ],
      "metadata": {
        "id": "6r7Mvv3ZPK_l"
      },
      "execution_count": null,
      "outputs": []
    },
    {
      "cell_type": "markdown",
      "source": [
        "### Driver Pay Arrays"
      ],
      "metadata": {
        "id": "6mrhctsRPK_l"
      }
    },
    {
      "cell_type": "code",
      "source": [
        "np.random.seed(50)\n",
        "\n",
        "driverpay_short, driverpay_long = [], []\n",
        "\n",
        "distribution = np.random.normal(driverpay_avg.Mean.iloc[1], driverpay_avg.SD.iloc[1], n).round(2)\n",
        "\n",
        "for i in distribution:\n",
        "  if i >= 0:\n",
        "    if i < driverpay_avg.Mean.iloc[0]:\n",
        "      driverpay_short.append(i)\n",
        "    else:\n",
        "      driverpay_long.append(i)"
      ],
      "metadata": {
        "id": "h0iQLEoAPK_m"
      },
      "execution_count": null,
      "outputs": []
    },
    {
      "cell_type": "markdown",
      "source": [
        "### Ride Duration Arrays"
      ],
      "metadata": {
        "id": "_ScLi63qPK_m"
      }
    },
    {
      "cell_type": "code",
      "source": [
        "np.random.seed(50)\n",
        "\n",
        "rideduration_short, rideduration_long = [], []\n",
        "\n",
        "distribution = np.random.normal(rideduration_avg.Mean.iloc[1], rideduration_avg.SD.iloc[1], n)\n",
        "\n",
        "for i in distribution:\n",
        "    if i >= 60:\n",
        "      if i < rideduration_avg.Mean.iloc[0]:\n",
        "        rideduration_short.append(i)\n",
        "      else:\n",
        "        rideduration_long.append(i)\n",
        "\n",
        "rideduration_short = (np.asarray(rideduration_short)/60).round(0)\n",
        "rideduration_long = (np.asarray(rideduration_long)/60).round(0)\n",
        "\n",
        "rideduration_short"
      ],
      "metadata": {
        "colab": {
          "base_uri": "https://localhost:8080/"
        },
        "outputId": "438653ab-332b-4638-e645-8cf5110692cc",
        "id": "UpsqV6BxPK_m"
      },
      "execution_count": null,
      "outputs": [
        {
          "output_type": "execute_result",
          "data": {
            "text/plain": [
              "array([13., 25., 14., 27., 23., 17., 16., 29., 20., 28., 28., 32., 30.,\n",
              "       32., 15., 30., 25., 31., 14., 12., 31., 29., 18., 23., 14., 32.,\n",
              "       21., 30., 31., 22., 30., 26., 13.,  2., 31., 33., 25., 29., 24.,\n",
              "       16., 22., 27., 30., 28., 32., 31., 31., 31., 24.,  1., 27., 32.,\n",
              "       17., 11., 13., 19., 18., 19., 23., 27., 18., 21., 19., 25., 32.,\n",
              "       13., 32., 18., 27., 21., 26., 24., 29., 29., 24., 22., 33., 22.,\n",
              "       26., 26.,  9., 25., 23., 31., 33., 17., 14., 15., 20., 12., 28.,\n",
              "       17., 15., 31., 32., 27., 33., 21., 33., 33., 21., 26., 19., 29.,\n",
              "       28., 29., 15., 17., 27., 30., 33., 22., 30., 14., 19., 19., 24.,\n",
              "       11., 28.,  7., 17., 32., 21., 26., 15., 30., 14., 31., 22., 30.,\n",
              "       28., 26., 30., 27., 22., 10., 28., 28., 31., 23., 28., 19., 26.,\n",
              "       26., 23., 27.,  8., 28.,  8., 16., 19., 25., 32., 23.,  7., 24.,\n",
              "       18., 18., 12., 10., 30., 22., 32., 18., 23., 27., 20., 29., 32.,\n",
              "       24., 24., 10., 29., 31., 24., 18., 25., 32., 32., 22., 28., 31.,\n",
              "       29., 27., 27., 16., 26., 25., 23., 25., 27., 13., 30., 32., 16.,\n",
              "       31., 26., 27., 22., 25., 25., 19., 22., 30., 12., 16., 30., 18.,\n",
              "       29., 30., 28.,  9., 15., 32.,  5., 17., 29., 30., 33., 15., 15.,\n",
              "       30., 25., 23.,  9., 32., 33., 22., 32., 29.,  4., 15., 26., 29.,\n",
              "       30., 29., 20., 30., 22., 12., 16., 27., 22., 31., 25., 20., 13.,\n",
              "       27., 27., 27., 16., 21., 14., 22.])"
            ]
          },
          "metadata": {},
          "execution_count": 13
        }
      ]
    },
    {
      "cell_type": "markdown",
      "source": [
        "### Speed Arrays"
      ],
      "metadata": {
        "id": "fj7KA3E7PK_m"
      }
    },
    {
      "cell_type": "code",
      "source": [
        "np.random.seed(50)\n",
        "\n",
        "speed_short, speed_long = [], []\n",
        "\n",
        "distribution = np.random.normal(speed_avg.Mean.iloc[1], speed_avg.SD.iloc[1], n)\n",
        "\n",
        "for i in distribution:\n",
        "    if i >= 0:\n",
        "      if i < speed_avg.Mean.iloc[0]:\n",
        "        speed_short.append(i)\n",
        "      else:\n",
        "        speed_long.append(i)\n",
        "\n",
        "speed_short = np.asarray(speed_short).round(0)\n",
        "speed_long = np.asarray(speed_long).round(0)\n",
        "\n",
        "speed_short"
      ],
      "metadata": {
        "colab": {
          "base_uri": "https://localhost:8080/"
        },
        "outputId": "7a825e67-2849-4494-a013-f2663d3ebd73",
        "id": "czeigJiUPK_m"
      },
      "execution_count": null,
      "outputs": [
        {
          "output_type": "execute_result",
          "data": {
            "text/plain": [
              "array([11., 18., 12., 19., 17., 13., 13., 20., 15., 19., 19., 21., 20.,\n",
              "       21., 12., 20., 18., 21., 11., 10., 20., 19., 14., 16., 12., 21.,\n",
              "       15., 20., 21., 16., 20., 18., 11.,  5., 21., 18., 19.,  4., 17.,\n",
              "       13., 16., 18., 20., 19., 21., 21., 21., 17.,  5., 18., 21., 13.,\n",
              "       10., 11., 14., 14., 14., 17., 18., 14., 15., 14., 18., 11., 21.,\n",
              "       13., 18., 16., 18., 17., 20., 19., 17., 16., 16., 18., 18.,  9.,\n",
              "       17., 16., 20., 13., 12., 12., 15., 11., 19.,  2., 13., 12., 21.,\n",
              "       21., 18., 15., 15., 18., 15., 19., 19., 20., 12., 13., 19., 20.,\n",
              "       16., 20., 12., 14., 14., 17., 10., 19.,  8., 13., 21., 15., 18.,\n",
              "       12., 20., 11., 21., 16., 20., 19., 18., 20., 19., 16.,  9., 19.,\n",
              "       19., 20., 17., 19., 14., 18., 18., 16., 19.,  8., 19.,  8., 13.,\n",
              "       14., 18., 16.,  8., 17., 14., 14., 11.,  9., 20., 16., 21., 14.,\n",
              "       16., 19., 15., 19., 17., 17., 10., 20., 20., 17., 14., 17., 21.,\n",
              "       16., 19., 20., 19., 19., 18., 13., 18., 17., 17., 17., 18., 11.,\n",
              "       20., 13., 20., 18., 19., 16., 17., 17., 14., 16., 20., 11., 13.,\n",
              "       20., 14.,  3., 19., 20., 19.,  9., 12., 21.,  7., 13., 20., 20.,\n",
              "       12., 12., 20.,  4., 17., 16.,  9., 21., 16., 20.,  6., 12., 18.,\n",
              "       19., 20., 20., 15., 20., 16., 11., 13., 18., 16., 20., 18., 15.,\n",
              "       11., 18., 19., 19., 12., 16., 11., 16.])"
            ]
          },
          "metadata": {},
          "execution_count": 14
        }
      ]
    },
    {
      "cell_type": "markdown",
      "source": [
        "### Waiting Time Arrays"
      ],
      "metadata": {
        "id": "VIu33wYOPK_n"
      }
    },
    {
      "cell_type": "code",
      "source": [
        "np.random.seed(50)\n",
        "\n",
        "waitingtime_short, waitingtime_long = [], []\n",
        "\n",
        "distribution = np.random.normal(waitingtime_avg.Mean.iloc[1], waitingtime_avg.SD.iloc[1], n)\n",
        "\n",
        "for i in distribution:\n",
        "    if i >= 60:\n",
        "      if i < waitingtime_avg.Mean.iloc[0]:\n",
        "        waitingtime_short.append(i)\n",
        "      else:\n",
        "        waitingtime_long.append(i)\n",
        "\n",
        "waitingtime_short = (np.asarray(waitingtime_short)/60).round(0)\n",
        "waitingtime_long = (np.asarray(waitingtime_long)/60).round(0)\n",
        "\n",
        "waitingtime_long"
      ],
      "metadata": {
        "colab": {
          "base_uri": "https://localhost:8080/"
        },
        "outputId": "d1addac6-fff0-4563-ba28-310e8db3ae4b",
        "id": "O383Kxk5PK_n"
      },
      "execution_count": null,
      "outputs": [
        {
          "output_type": "execute_result",
          "data": {
            "text/plain": [
              "array([10.,  8., 18.,  8.,  7., 16., 11., 15., 14.,  9.,  6., 18., 27.,\n",
              "       15., 11., 14.,  9., 11.,  9., 10., 11., 12.,  9., 19., 10., 14.,\n",
              "       16., 17., 13., 14., 12.,  9., 17.,  8., 12., 10., 14., 15., 10.,\n",
              "        9., 12., 14.,  7., 10., 24., 11., 13., 15., 11., 10., 12., 11.,\n",
              "       11., 14.,  6.,  9., 16., 11., 10.,  6.,  9., 12., 12., 14., 13.,\n",
              "       18.,  8., 21., 16., 15., 17., 10., 10., 12., 10.,  7.,  9., 11.,\n",
              "        7., 14., 19., 18.,  6., 11., 15.,  8.,  9., 11.,  8., 10., 10.,\n",
              "       10., 10., 12.,  7.,  8., 15., 10., 12., 15.,  5., 19.,  5., 15.,\n",
              "       14., 14., 12.,  7.,  8.,  6.,  5., 10.,  7., 13., 16., 23., 10.,\n",
              "       17., 10., 14.,  8., 11.,  6., 17., 19., 12.,  8.,  7.,  9.,  9.,\n",
              "        7., 14.,  6., 10., 18.,  6., 11.,  8., 12.,  8.,  7.,  6., 15.,\n",
              "        9., 11., 11., 10.,  6., 11., 23.,  8., 11., 14., 11., 14., 10.,\n",
              "       10.,  8., 24., 10., 11., 11.,  6., 10., 10., 19.,  6., 17.,  8.,\n",
              "        5., 13., 11., 12., 13.,  9., 13., 14., 15.,  9.,  9., 13., 11.,\n",
              "        8.,  9., 10., 18., 15., 12.,  6.,  9., 18., 19., 16., 17., 13.,\n",
              "       13.,  5.,  5., 13., 14., 17., 12., 16.,  7., 13.,  8., 18., 12.,\n",
              "       10., 13., 14.,  6.,  8.,  9., 12., 16., 10.,  6.,  9., 13.,  9.,\n",
              "        8.,  9., 14.,  8.,  6., 20., 15., 21., 15., 13.,  9., 14.,  8.,\n",
              "       14., 13.,  9., 22.,  7., 15.,  8.,  5.,  8.,  8., 14., 15., 14.,\n",
              "        7.,  8., 15., 15.,  9., 11., 13.,  5.,  8., 12., 10., 13., 15.,\n",
              "       16., 12., 16., 11.,  7., 13., 15., 17.,  7., 15., 11., 20., 16.,\n",
              "       11., 13.,  9., 12., 20., 12.,  6., 13., 12., 10.,  7., 18.,  8.,\n",
              "       12.,  5.,  9., 13., 10.,  7.,  7.,  9.,  9.,  7., 18., 13.,  7.,\n",
              "       10., 10., 14., 12.,  6.,  8.,  9., 12., 17.,  9.,  8., 16., 14.,\n",
              "        8.,  8., 11., 20.,  7.,  7., 13., 12.,  7.,  8., 11., 18.,  9.,\n",
              "       11., 15., 10., 16., 11., 19.,  9.,  8., 11.,  8., 15., 11.,  6.,\n",
              "       10., 15., 13., 14., 12.,  7.,  7.,  5.,  6.,  9., 16., 11., 16.,\n",
              "        9., 13., 10., 12.,  9., 11., 16., 12., 13.,  9., 12., 15.,  9.,\n",
              "       12., 11., 16., 10.,  9., 14.,  9., 10., 13., 14., 14., 17., 13.,\n",
              "        9., 12.,  7.,  7., 10., 10.,  6., 10.,  9., 11.,  8., 15., 15.,\n",
              "        9.,  9.,  9., 13.,  5.,  9.,  6., 14., 12.,  8., 11., 12., 13.,\n",
              "        6., 14., 13., 11.,  9., 13.,  7.,  6., 13., 15., 16., 19., 13.,\n",
              "       12., 10., 11.,  8., 15., 19.,  8., 12.,  8.,  6., 14.,  6.])"
            ]
          },
          "metadata": {},
          "execution_count": 15
        }
      ]
    },
    {
      "cell_type": "markdown",
      "source": [
        "# Combinations"
      ],
      "metadata": {
        "id": "1TBL6KCOQdy0"
      }
    },
    {
      "cell_type": "markdown",
      "source": [
        "Combinations (disregarding speed for now)\n",
        "- Long Wait Time, Long Ride Duration, High Driver Pay\n",
        "- Long Wait Time, Long Ride Duration, Low Driver Pay\n",
        "- Long Wait Time, Short Ride Duration, High Driver Pay\n",
        "- Long Wait Time, Short Ride Duration, Low Driver Pay\n",
        "\n",
        "- Short Wait Time, Long Ride Duration, High Driver Pay\n",
        "- Short Wait Time, Long Ride Duration, Low Driver Pay\n",
        "- Short Wait Time, Short Ride Duration, High Driver Pay\n",
        "- Short Wait Time, Short Ride Duration, Low Driver Pay\n",
        "\n"
      ],
      "metadata": {
        "id": "GNv9fNvbQlId"
      }
    },
    {
      "cell_type": "markdown",
      "source": [
        "More Basic Combos (in this case, high driver pay would be associated with long ride duration)\n",
        "- Long Wait Time, Long Ride Duration\n",
        "- Long Wait Time, Short Ride Duration\n",
        "- Short Wait Time, Short Ride Duration\n",
        "- Short Wait Time, Long Ride Duration"
      ],
      "metadata": {
        "id": "chp0u_9vTaRD"
      }
    },
    {
      "cell_type": "markdown",
      "source": [
        "## Uber Combinations"
      ],
      "metadata": {
        "id": "Nsj8j_l2QpGp"
      }
    },
    {
      "cell_type": "code",
      "source": [
        "waitingtimes = [waitingtime_short, waitingtime_long]\n",
        "driverpays = [driverpay_short, driverpay_long]\n",
        "ridedurations = [driverpay_short, driverpay_long]"
      ],
      "metadata": {
        "id": "i7p3ZvYgQqEF"
      },
      "execution_count": null,
      "outputs": []
    },
    {
      "cell_type": "code",
      "source": [
        "data = {'A_driver_pay_long': driverpay_long}\n",
        "\n",
        "df = pd.DataFrame(data)\n",
        "\n",
        "df.to_csv('check.csv')"
      ],
      "metadata": {
        "id": "PNKRut19vvl-"
      },
      "execution_count": null,
      "outputs": []
    },
    {
      "cell_type": "code",
      "source": [
        "#Randomly generates 250 values of 0 and 1 to determine if waiting time will be long or short\n",
        "np.random.seed(50)\n",
        "\n",
        "waitingtime_length = np.random.choice([0, 1], size=(250,), p=[1./2, 1/2])\n",
        "waitingtime_length"
      ],
      "metadata": {
        "colab": {
          "base_uri": "https://localhost:8080/"
        },
        "id": "rMbXbbAjYt0J",
        "outputId": "f9e12230-2445-473d-b5a7-9be0041e13e4"
      },
      "execution_count": null,
      "outputs": [
        {
          "output_type": "execute_result",
          "data": {
            "text/plain": [
              "array([0, 0, 0, 0, 0, 1, 0, 1, 1, 0, 0, 0, 0, 1, 1, 1, 0, 1, 1, 0, 1, 1,\n",
              "       1, 1, 1, 0, 0, 0, 0, 1, 1, 1, 1, 0, 1, 0, 1, 1, 1, 0, 1, 1, 1, 0,\n",
              "       1, 1, 1, 0, 1, 0, 0, 1, 0, 0, 1, 0, 0, 1, 0, 0, 0, 0, 0, 1, 1, 1,\n",
              "       1, 1, 1, 0, 1, 1, 0, 1, 1, 1, 1, 0, 0, 0, 0, 1, 0, 0, 1, 1, 1, 1,\n",
              "       0, 1, 1, 1, 0, 1, 0, 1, 0, 0, 1, 0, 0, 0, 0, 0, 0, 1, 1, 0, 0, 1,\n",
              "       1, 1, 0, 1, 1, 0, 0, 1, 0, 1, 1, 0, 0, 0, 0, 0, 0, 1, 1, 0, 0, 0,\n",
              "       1, 0, 0, 0, 1, 1, 0, 0, 0, 0, 0, 1, 1, 0, 1, 1, 0, 1, 1, 1, 0, 0,\n",
              "       1, 1, 0, 1, 1, 1, 0, 0, 0, 0, 0, 0, 1, 0, 1, 1, 0, 0, 0, 1, 0, 1,\n",
              "       0, 1, 1, 0, 1, 0, 1, 1, 0, 0, 0, 0, 1, 1, 0, 0, 0, 0, 1, 0, 0, 0,\n",
              "       0, 1, 1, 1, 0, 1, 0, 1, 0, 1, 0, 0, 1, 0, 0, 0, 0, 1, 0, 0, 0, 0,\n",
              "       0, 1, 1, 1, 1, 0, 0, 1, 1, 0, 0, 0, 1, 0, 0, 1, 0, 1, 0, 0, 0, 1,\n",
              "       1, 1, 0, 0, 1, 0, 1, 0])"
            ]
          },
          "metadata": {},
          "execution_count": 53
        }
      ]
    },
    {
      "cell_type": "code",
      "source": [
        "waitingtime_lengths = repr(waitingtime_length).replace(\" \", \"\")\n",
        "print(waitingtime_lengths)"
      ],
      "metadata": {
        "colab": {
          "base_uri": "https://localhost:8080/"
        },
        "id": "w_GVFJrta5eq",
        "outputId": "08869eb9-e60f-40fb-a1da-9e30bc397596"
      },
      "execution_count": null,
      "outputs": [
        {
          "output_type": "stream",
          "name": "stdout",
          "text": [
            "array([0,0,0,0,0,1,0,1,1,0,0,0,0,1,1,1,0,1,1,0,1,1,\n",
            "1,1,1,0,0,0,0,1,1,1,1,0,1,0,1,1,1,0,1,1,1,0,\n",
            "1,1,1,0,1,0,0,1,0,0,1,0,0,1,0,0,0,0,0,1,1,1,\n",
            "1,1,1,0,1,1,0,1,1,1,1,0,0,0,0,1,0,0,1,1,1,1,\n",
            "0,1,1,1,0,1,0,1,0,0,1,0,0,0,0,0,0,1,1,0,0,1,\n",
            "1,1,0,1,1,0,0,1,0,1,1,0,0,0,0,0,0,1,1,0,0,0,\n",
            "1,0,0,0,1,1,0,0,0,0,0,1,1,0,1,1,0,1,1,1,0,0,\n",
            "1,1,0,1,1,1,0,0,0,0,0,0,1,0,1,1,0,0,0,1,0,1,\n",
            "0,1,1,0,1,0,1,1,0,0,0,0,1,1,0,0,0,0,1,0,0,0,\n",
            "0,1,1,1,0,1,0,1,0,1,0,0,1,0,0,0,0,1,0,0,0,0,\n",
            "0,1,1,1,1,0,0,1,1,0,0,0,1,0,0,1,0,1,0,0,0,1,\n",
            "1,1,0,0,1,0,1,0])\n"
          ]
        }
      ]
    },
    {
      "cell_type": "code",
      "source": [
        "np.random.seed(28)\n",
        "\n",
        "ridedurations_length = np.random.choice([0, 1], size=(250,), p=[1./2, 1/2])\n",
        "ridedurations_length"
      ],
      "metadata": {
        "colab": {
          "base_uri": "https://localhost:8080/"
        },
        "id": "IjnjV-jIY8M7",
        "outputId": "fd59e33b-1714-4de5-f53e-99fc701ed332"
      },
      "execution_count": null,
      "outputs": [
        {
          "output_type": "execute_result",
          "data": {
            "text/plain": [
              "array([1, 1, 0, 0, 1, 1, 0, 1, 1, 1, 0, 1, 0, 0, 1, 1, 0, 0, 0, 1, 0, 0,\n",
              "       1, 1, 1, 1, 0, 0, 1, 0, 1, 1, 0, 0, 1, 0, 1, 1, 1, 0, 0, 1, 0, 1,\n",
              "       1, 0, 1, 1, 1, 0, 1, 0, 1, 0, 1, 0, 1, 0, 0, 1, 1, 1, 1, 0, 1, 0,\n",
              "       1, 0, 1, 0, 1, 0, 1, 1, 0, 0, 0, 1, 0, 1, 0, 1, 0, 1, 1, 0, 1, 1,\n",
              "       1, 1, 1, 1, 0, 1, 0, 0, 0, 1, 0, 1, 0, 1, 0, 0, 0, 1, 0, 0, 1, 1,\n",
              "       1, 0, 0, 0, 0, 0, 1, 1, 0, 0, 1, 1, 0, 0, 0, 0, 1, 1, 0, 1, 0, 1,\n",
              "       1, 1, 0, 1, 1, 0, 0, 1, 0, 0, 0, 0, 0, 0, 1, 1, 1, 0, 1, 1, 0, 1,\n",
              "       1, 1, 0, 0, 0, 1, 0, 0, 1, 1, 0, 0, 1, 0, 0, 0, 0, 1, 1, 1, 0, 1,\n",
              "       0, 1, 1, 1, 0, 1, 0, 1, 0, 0, 1, 0, 1, 0, 1, 1, 0, 0, 1, 1, 1, 0,\n",
              "       0, 0, 1, 1, 0, 1, 1, 0, 0, 0, 1, 0, 0, 1, 0, 0, 1, 1, 0, 0, 1, 1,\n",
              "       1, 0, 1, 0, 1, 1, 1, 0, 1, 0, 0, 0, 1, 1, 0, 1, 0, 0, 0, 0, 1, 1,\n",
              "       1, 1, 0, 0, 0, 0, 0, 1])"
            ]
          },
          "metadata": {},
          "execution_count": 48
        }
      ]
    },
    {
      "cell_type": "code",
      "source": [
        "ridedurations_lengths = repr(ridedurations_length).replace(\" \", \"\")\n",
        "print(ridedurations_lengths)"
      ],
      "metadata": {
        "colab": {
          "base_uri": "https://localhost:8080/"
        },
        "id": "rj5LS8EdZOU3",
        "outputId": "ba132022-f719-4d22-e2bd-5f51628ddeee"
      },
      "execution_count": null,
      "outputs": [
        {
          "output_type": "stream",
          "name": "stdout",
          "text": [
            "array([1,1,0,0,1,1,0,1,1,1,0,1,0,0,1,1,0,0,0,1,0,0,\n",
            "1,1,1,1,0,0,1,0,1,1,0,0,1,0,1,1,1,0,0,1,0,1,\n",
            "1,0,1,1,1,0,1,0,1,0,1,0,1,0,0,1,1,1,1,0,1,0,\n",
            "1,0,1,0,1,0,1,1,0,0,0,1,0,1,0,1,0,1,1,0,1,1,\n",
            "1,1,1,1,0,1,0,0,0,1,0,1,0,1,0,0,0,1,0,0,1,1,\n",
            "1,0,0,0,0,0,1,1,0,0,1,1,0,0,0,0,1,1,0,1,0,1,\n",
            "1,1,0,1,1,0,0,1,0,0,0,0,0,0,1,1,1,0,1,1,0,1,\n",
            "1,1,0,0,0,1,0,0,1,1,0,0,1,0,0,0,0,1,1,1,0,1,\n",
            "0,1,1,1,0,1,0,1,0,0,1,0,1,0,1,1,0,0,1,1,1,0,\n",
            "0,0,1,1,0,1,1,0,0,0,1,0,0,1,0,0,1,1,0,0,1,1,\n",
            "1,0,1,0,1,1,1,0,1,0,0,0,1,1,0,1,0,0,0,0,1,1,\n",
            "1,1,0,0,0,0,0,1])\n"
          ]
        }
      ]
    },
    {
      "cell_type": "code",
      "source": [
        "waitingtime_short = repr(waitingtime_short).replace(\".\", \"\").replace(\" \", \"\")\n",
        "print(waitingtime_short)"
      ],
      "metadata": {
        "colab": {
          "base_uri": "https://localhost:8080/"
        },
        "id": "vvrvT2nwiUbS",
        "outputId": "e1ba4344-90ae-498d-bc60-8e47754bb4ac"
      },
      "execution_count": null,
      "outputs": [
        {
          "output_type": "stream",
          "name": "stdout",
          "text": [
            "array([5,3,3,2,4,2,4,4,4,4,4,4,3,4,4,4,1,\n",
            "2,5,4,2,4,4,2,4,3,5,4,5,3,4,3,2,3,\n",
            "4,4,5,4,4,4,3,3,4,1,1,1,2,3,1,2,1,\n",
            "5,3,5,4,1,3,2,3,3,4,4,3,2,5,2,3,3,\n",
            "3,2,4,5,5,2,4,4,4,3,5,2,5,5,2,3,2,\n",
            "4,4,4,3,4,5,2,4,1,1,3,3,1,4,2,3,4,\n",
            "4,2,4,4,3,4,3,2,4,4,4,3,4,1,3,3,2,\n",
            "3,4,2,3,5,2,3,1,1,4,2,4,1,2,3,2,4,\n",
            "5,3,3,4,4,3,1,3,5,4,2,4,4,4,3,3,3,\n",
            "3,2,3,3,4,5,4,3,3,2,5,3,3,2,2])\n"
          ]
        }
      ]
    },
    {
      "cell_type": "code",
      "source": [
        "waitingtime_long = repr(waitingtime_long).replace(\".\", \"\").replace(\" \", \"\")\n",
        "print(waitingtime_long)"
      ],
      "metadata": {
        "colab": {
          "base_uri": "https://localhost:8080/"
        },
        "id": "gtzRgYahiyaY",
        "outputId": "0ecd9ad5-4560-42e0-bdb9-68d9bc107705"
      },
      "execution_count": null,
      "outputs": [
        {
          "output_type": "stream",
          "name": "stdout",
          "text": [
            "array([9,8,5,8,7,10,8,5,7,5,5,6,7,\n",
            "8,9,6,7,6,9,6,7,8,6,7,5,7,\n",
            "7,5,6,5,5,7,8,5,6,6,7,6,10,\n",
            "8,7,9,6,5,7,10,5,8,5,6,8,6,\n",
            "8,8,7,7,6,6,9,9,7,5,9,6,7,\n",
            "10,5,6,8,5,5,5,7,5,7,5,5,9,\n",
            "7,5,6,6,6,7,7,6,5,10,8,6,10,\n",
            "8,9,6,7,7,7,9,6,8,6,10,6,6,\n",
            "7,6,8,6,7,8,8,7,7,7,6,8,7,\n",
            "8,7,8,7,5,6,6,6,8,9,6,8,5,\n",
            "7,8,9,7,5,8,5,7,6,6,7,6,9,\n",
            "6,7,10,6,7,6,6,9,8,7,5,6,6,\n",
            "5,9,5,8,9,5,5,8,5,8,7,7,6])\n"
          ]
        }
      ]
    },
    {
      "cell_type": "code",
      "source": [
        "rideduration_short\n",
        "rideduration_short = repr(rideduration_short).replace(\".\", \"\").replace(\" \", \"\")\n",
        "print(rideduration_short)"
      ],
      "metadata": {
        "colab": {
          "base_uri": "https://localhost:8080/"
        },
        "id": "rgRLCKaCi7pt",
        "outputId": "500fbab6-aeae-4ecb-ce9c-bc46414deff5"
      },
      "execution_count": null,
      "outputs": [
        {
          "output_type": "stream",
          "name": "stdout",
          "text": [
            "array([12,33,25,13,27,23,16,15,29,20,28,28,31,\n",
            "29,31,15,29,25,30,13,11,30,28,17,22,33,\n",
            "13,31,20,30,30,21,29,25,12,1,33,30,32,\n",
            "25,28,23,15,21,26,30,27,31,31,30,30,23,\n",
            "26,31,16,10,12,18,18,18,23,26,17,20,18,\n",
            "33,24,31,12,31,17,26,21,26,23,29,28,23,\n",
            "22,32,21,26,26,8,24,22,30,33,32,16,13,\n",
            "14,20,12,27,16,14,30,31,26,32,21,32,32,\n",
            "20,25,19,28,28,28,14,16,27,29,32,21,30,\n",
            "13,18,18,23,10,27,6,16,31,20,25,14,30,\n",
            "13,30,21,30,28,26,29,26,22,9,28,27,30,\n",
            "23,27,18,26,25,22,27,7,28,7,15,18,25,\n",
            "31,22,6,23,17,17,12,9,29,21,31,17,22,\n",
            "27,19,28,32,23,24,9,28,30,23,17,24,32,\n",
            "31,21,27,30,28,27,26,15,25,24,23,24,26,\n",
            "12,30,32,15,30,25,27,21,33,24,24,18,21])\n"
          ]
        }
      ]
    },
    {
      "cell_type": "code",
      "source": [
        "rideduration_long = repr(rideduration_long).replace(\".\", \"\").replace(\" \", \"\")\n",
        "print(rideduration_long)"
      ],
      "metadata": {
        "colab": {
          "base_uri": "https://localhost:8080/"
        },
        "id": "KmhKR4K2jJ3S",
        "outputId": "c865e2f2-602f-4ffa-9ac5-0940aa53efa5"
      },
      "execution_count": null,
      "outputs": [
        {
          "output_type": "stream",
          "name": "stdout",
          "text": [
            "array([52,47,35,45,42,55,78,46,35,43,35,35,37,\n",
            "56,42,48,51,40,43,38,52,38,43,45,38,42,\n",
            "69,34,40,44,34,37,34,34,43,48,34,36,36,\n",
            "43,40,53,61,48,44,50,38,35,43,55,54,33,\n",
            "45,34,37,44,36,44,57,45,43,43,37,39,49,\n",
            "66,52,44,35,50,55,38,42,54,33,38,45,33,\n",
            "35,68,33,43,34,43,70,34,34,57,51,41,34,\n",
            "36,40,40,42,44,39,35,53,44,36,54,56,48,\n",
            "50,39,41,41,43,50,38,47,39,53,38,39,43,\n",
            "38,48,39,42,58,45,63,45,41,42,42,38,64,\n",
            "45,42,44,42,45,44,34,39,37,40,44,49,37,\n",
            "48,34,41,44,50,44,35,58,47,35,41,37,58,\n",
            "36,41,37,52,36,41,55,38,43,36,36,50,47,\n",
            "42,35,58,40,37,34,52,34,46,49,33,55,34,\n",
            "46,35,44,41,42,37])\n"
          ]
        }
      ]
    },
    {
      "cell_type": "code",
      "source": [
        "driverpay_short = repr(driverpay_short).replace(\" \", \"\")\n",
        "print(driverpay_short)"
      ],
      "metadata": {
        "colab": {
          "base_uri": "https://localhost:8080/"
        },
        "id": "AosATZYJjTso",
        "outputId": "f6232d25-2dd8-4803-df46-811725184613"
      },
      "execution_count": null,
      "outputs": [
        {
          "output_type": "stream",
          "name": "stdout",
          "text": [
            "\"'[12.59,35.54,26.69,14.03,28.85,24.29,16.77,16.09,30.98,21.04,30.09,29.82,33.59,31.78,33.75,15.47,31.28,26.63,32.99,13.41,11.0,32.72,30.62,18.48,24.1,35.42,13.63,33.53,21.85,32.31,32.8,22.64,31.94,27.26,12.18,0.4,35.53,33.01,35.21,26.49,30.56,25.21,16.4,22.65,27.97,32.13,29.59,34.18,33.47,33.06,33.1,24.6,28.04,33.53,16.74,10.35,12.24,19.49,18.64,19.33,24.33,27.96,18.39,21.98,19.5,35.58,26.39,33.95,12.36,33.61,17.76,28.11,22.15,27.65,25.23,31.11,30.25,25.31,23.33,34.85,22.85,27.67,27.79,7.84,25.72,23.49,32.61,35.9,34.91,17.04,13.69,14.64,20.91,12.05,29.56,16.63,15.18,32.89,33.84,28.11,34.83,22.04,35.03,34.72,21.52,27.49,19.96,30.55,30.02,30.83,14.52,16.94,28.74,31.45,35.12,22.86,32.35,14.15,19.4,18.93,24.91,10.75,29.07,5.68,17.39,33.62,21.25,26.88,14.54,32.28,13.35,33.05,22.8,32.38,29.98,27.67,31.86,28.52,23.37,8.92,29.92,29.27,32.64,24.37,29.55,19.41,27.71,27.22,23.89,28.72,6.72,30.12,6.81,15.72,19.75,26.69,34.12,23.54,5.89,25.12,18.45,18.6,11.98,9.18,31.56,22.31,33.85,17.82,23.78,29.0,20.27,30.22,34.52,25.2,25.44,9.32,30.66,32.63,24.83,18.08,25.95,34.49,33.58,22.72,29.3,32.63,30.58,28.73,28.3,16.31,27.35,25.83,24.29,26.12,28.09,12.36,32.07,34.32,16.4,32.63,27.4,28.79,22.74,35.43,25.69,26.0,19.75,22.31]'\"\n"
          ]
        }
      ]
    },
    {
      "cell_type": "code",
      "source": [
        "driverpay_long = repr(driverpay_long).replace(\" \", \"\")\n",
        "print(driverpay_long)"
      ],
      "metadata": {
        "colab": {
          "base_uri": "https://localhost:8080/"
        },
        "id": "wd6WrqeNj2yi",
        "outputId": "57eec77c-e7a8-45f7-aa6f-adc30cf0acda"
      },
      "execution_count": null,
      "outputs": [
        {
          "output_type": "stream",
          "name": "stdout",
          "text": [
            "[57.18,52.05,37.9,48.93,46.45,59.98,85.71,50.82,37.86,47.14,38.22,38.09,40.28,61.66,46.35,52.43,56.08,43.3,47.3,41.45,56.6,41.64,47.15,48.86,41.68,46.26,76.58,37.44,43.87,48.23,36.77,40.17,37.31,36.51,47.2,52.62,36.59,39.33,39.78,46.62,43.41,58.07,66.99,52.32,48.08,54.46,41.26,38.06,46.93,60.33,58.82,36.08,49.0,36.71,40.45,48.64,39.0,48.73,63.12,49.06,47.23,46.64,40.74,42.36,53.44,72.97,56.74,47.76,38.43,54.94,60.53,40.98,45.91,58.8,36.02,40.97,49.28,36.15,38.33,74.69,36.29,47.17,36.72,46.88,76.68,37.23,36.96,62.58,56.56,44.48,36.86,39.62,43.29,43.34,45.53,48.02,42.58,38.33,58.45,48.57,39.54,59.67,62.11,52.34,54.33,43.07,44.46,44.48,46.72,55.2,41.63,51.03,42.43,57.89,41.28,42.13,47.42,41.76,52.86,42.11,46.23,63.73,49.4,69.03,49.46,44.67,45.52,46.34,42.02,70.9,49.0,45.61,48.69,46.14,49.8,48.12,36.85,42.62,40.43,43.23,48.68,53.22,40.49,52.47,36.8,44.61,48.3,55.19,48.22,38.24,64.27,51.47,37.73,44.86,39.86,63.35,39.55,44.88,39.88,57.54,39.63,44.63,60.05,41.88,46.92,39.35,39.23,54.86,52.07,46.08,38.62,63.94,43.35,40.55,37.38,57.66,37.25,50.34,53.32,36.23,60.46,37.57,50.02,38.67,48.64,44.71,45.7,40.86]\n"
          ]
        }
      ]
    },
    {
      "cell_type": "code",
      "source": [
        "arrays = [waitingtime_short, waitingtime_long,\n",
        "          rideduration_short, rideduration_long,\n",
        "          driverpay_short, driverpay_long]\n",
        "\n",
        "for i in arrays:\n",
        "  print(repr(i).replace(\".\", \",\"))"
      ],
      "metadata": {
        "colab": {
          "base_uri": "https://localhost:8080/"
        },
        "id": "LwCV6y2_Zsoq",
        "outputId": "f07ad901-05fe-4248-e774-c44f793e147f"
      },
      "execution_count": null,
      "outputs": [
        {
          "output_type": "stream",
          "name": "stdout",
          "text": [
            "array([5,3,3,2,4,2,4,4,4,4,4,4,3,4,4,4,1.,\n",
            "       2,5,4,2,4,4,2,4,3,5,4,5,3,4,3,2,3.,\n",
            "       4,4,5,4,4,4,3,3,4,1,1,1,2,3,1,2,1.,\n",
            "       5,3,5,4,1,3,2,3,3,4,4,3,2,5,2,3,3.,\n",
            "       3,2,4,5,5,2,4,4,4,3,5,2,5,5,2,3,2.,\n",
            "       4,4,4,3,4,5,2,4,1,1,3,3,1,4,2,3,4.,\n",
            "       4,2,4,4,3,4,3,2,4,4,4,3,4,1,3,3,2.,\n",
            "       3,4,2,3,5,2,3,1,1,4,2,4,1,2,3,2,4.,\n",
            "       5,3,3,4,4,3,1,3,5,4,2,4,4,4,3,3,3.,\n",
            "       3,2,3,3,4,5,4,3,3,2,5,3,3,2,2.])\n",
            "array([ 9, 8, 5, 8, 7,10, 8, 5, 7, 5, 5, 6, 7.,\n",
            "        8, 9, 6, 7, 6, 9, 6, 7, 8, 6, 7, 5, 7.,\n",
            "        7, 5, 6, 5, 5, 7, 8, 5, 6, 6, 7, 6,10.,\n",
            "        8, 7, 9, 6, 5, 7,10, 5, 8, 5, 6, 8, 6.,\n",
            "        8, 8, 7, 7, 6, 6, 9, 9, 7, 5, 9, 6, 7.,\n",
            "       10, 5, 6, 8, 5, 5, 5, 7, 5, 7, 5, 5, 9.,\n",
            "        7, 5, 6, 6, 6, 7, 7, 6, 5,10, 8, 6,10.,\n",
            "        8, 9, 6, 7, 7, 7, 9, 6, 8, 6,10, 6, 6.,\n",
            "        7, 6, 8, 6, 7, 8, 8, 7, 7, 7, 6, 8, 7.,\n",
            "        8, 7, 8, 7, 5, 6, 6, 6, 8, 9, 6, 8, 5.,\n",
            "        7, 8, 9, 7, 5, 8, 5, 7, 6, 6, 7, 6, 9.,\n",
            "        6, 7,10, 6, 7, 6, 6, 9, 8, 7, 5, 6, 6.,\n",
            "        5, 9, 5, 8, 9, 5, 5, 8, 5, 8, 7, 7, 6.])\n",
            "array([12,33,25,13,27,23,16,15,29,20,28,28,31.,\n",
            "       29,31,15,29,25,30,13,11,30,28,17,22,33.,\n",
            "       13,31,20,30,30,21,29,25,12, 1,33,30,32.,\n",
            "       25,28,23,15,21,26,30,27,31,31,30,30,23.,\n",
            "       26,31,16,10,12,18,18,18,23,26,17,20,18.,\n",
            "       33,24,31,12,31,17,26,21,26,23,29,28,23.,\n",
            "       22,32,21,26,26, 8,24,22,30,33,32,16,13.,\n",
            "       14,20,12,27,16,14,30,31,26,32,21,32,32.,\n",
            "       20,25,19,28,28,28,14,16,27,29,32,21,30.,\n",
            "       13,18,18,23,10,27, 6,16,31,20,25,14,30.,\n",
            "       13,30,21,30,28,26,29,26,22, 9,28,27,30.,\n",
            "       23,27,18,26,25,22,27, 7,28, 7,15,18,25.,\n",
            "       31,22, 6,23,17,17,12, 9,29,21,31,17,22.,\n",
            "       27,19,28,32,23,24, 9,28,30,23,17,24,32.,\n",
            "       31,21,27,30,28,27,26,15,25,24,23,24,26.,\n",
            "       12,30,32,15,30,25,27,21,33,24,24,18,21.])\n",
            "array([52,47,35,45,42,55,78,46,35,43,35,35,37.,\n",
            "       56,42,48,51,40,43,38,52,38,43,45,38,42.,\n",
            "       69,34,40,44,34,37,34,34,43,48,34,36,36.,\n",
            "       43,40,53,61,48,44,50,38,35,43,55,54,33.,\n",
            "       45,34,37,44,36,44,57,45,43,43,37,39,49.,\n",
            "       66,52,44,35,50,55,38,42,54,33,38,45,33.,\n",
            "       35,68,33,43,34,43,70,34,34,57,51,41,34.,\n",
            "       36,40,40,42,44,39,35,53,44,36,54,56,48.,\n",
            "       50,39,41,41,43,50,38,47,39,53,38,39,43.,\n",
            "       38,48,39,42,58,45,63,45,41,42,42,38,64.,\n",
            "       45,42,44,42,45,44,34,39,37,40,44,49,37.,\n",
            "       48,34,41,44,50,44,35,58,47,35,41,37,58.,\n",
            "       36,41,37,52,36,41,55,38,43,36,36,50,47.,\n",
            "       42,35,58,40,37,34,52,34,46,49,33,55,34.,\n",
            "       46,35,44,41,42,37.])\n",
            "[12.59, 35.54, 26.69, 14.03, 28.85, 24.29, 16.77, 16.09, 30.98, 21.04, 30.09, 29.82, 33.59, 31.78, 33.75, 15.47, 31.28, 26.63, 32.99, 13.41, 11.0, 32.72, 30.62, 18.48, 24.1, 35.42, 13.63, 33.53, 21.85, 32.31, 32.8, 22.64, 31.94, 27.26, 12.18, 0.4, 35.53, 33.01, 35.21, 26.49, 30.56, 25.21, 16.4, 22.65, 27.97, 32.13, 29.59, 34.18, 33.47, 33.06, 33.1, 24.6, 28.04, 33.53, 16.74, 10.35, 12.24, 19.49, 18.64, 19.33, 24.33, 27.96, 18.39, 21.98, 19.5, 35.58, 26.39, 33.95, 12.36, 33.61, 17.76, 28.11, 22.15, 27.65, 25.23, 31.11, 30.25, 25.31, 23.33, 34.85, 22.85, 27.67, 27.79, 7.84, 25.72, 23.49, 32.61, 35.9, 34.91, 17.04, 13.69, 14.64, 20.91, 12.05, 29.56, 16.63, 15.18, 32.89, 33.84, 28.11, 34.83, 22.04, 35.03, 34.72, 21.52, 27.49, 19.96, 30.55, 30.02, 30.83, 14.52, 16.94, 28.74, 31.45, 35.12, 22.86, 32.35, 14.15, 19.4, 18.93, 24.91, 10.75, 29.07, 5.68, 17.39, 33.62, 21.25, 26.88, 14.54, 32.28, 13.35, 33.05, 22.8, 32.38, 29.98, 27.67, 31.86, 28.52, 23.37, 8.92, 29.92, 29.27, 32.64, 24.37, 29.55, 19.41, 27.71, 27.22, 23.89, 28.72, 6.72, 30.12, 6.81, 15.72, 19.75, 26.69, 34.12, 23.54, 5.89, 25.12, 18.45, 18.6, 11.98, 9.18, 31.56, 22.31, 33.85, 17.82, 23.78, 29.0, 20.27, 30.22, 34.52, 25.2, 25.44, 9.32, 30.66, 32.63, 24.83, 18.08, 25.95, 34.49, 33.58, 22.72, 29.3, 32.63, 30.58, 28.73, 28.3, 16.31, 27.35, 25.83, 24.29, 26.12, 28.09, 12.36, 32.07, 34.32, 16.4, 32.63, 27.4, 28.79, 22.74, 35.43, 25.69, 26.0, 19.75, 22.31]\n",
            "[57.18, 52.05, 37.9, 48.93, 46.45, 59.98, 85.71, 50.82, 37.86, 47.14, 38.22, 38.09, 40.28, 61.66, 46.35, 52.43, 56.08, 43.3, 47.3, 41.45, 56.6, 41.64, 47.15, 48.86, 41.68, 46.26, 76.58, 37.44, 43.87, 48.23, 36.77, 40.17, 37.31, 36.51, 47.2, 52.62, 36.59, 39.33, 39.78, 46.62, 43.41, 58.07, 66.99, 52.32, 48.08, 54.46, 41.26, 38.06, 46.93, 60.33, 58.82, 36.08, 49.0, 36.71, 40.45, 48.64, 39.0, 48.73, 63.12, 49.06, 47.23, 46.64, 40.74, 42.36, 53.44, 72.97, 56.74, 47.76, 38.43, 54.94, 60.53, 40.98, 45.91, 58.8, 36.02, 40.97, 49.28, 36.15, 38.33, 74.69, 36.29, 47.17, 36.72, 46.88, 76.68, 37.23, 36.96, 62.58, 56.56, 44.48, 36.86, 39.62, 43.29, 43.34, 45.53, 48.02, 42.58, 38.33, 58.45, 48.57, 39.54, 59.67, 62.11, 52.34, 54.33, 43.07, 44.46, 44.48, 46.72, 55.2, 41.63, 51.03, 42.43, 57.89, 41.28, 42.13, 47.42, 41.76, 52.86, 42.11, 46.23, 63.73, 49.4, 69.03, 49.46, 44.67, 45.52, 46.34, 42.02, 70.9, 49.0, 45.61, 48.69, 46.14, 49.8, 48.12, 36.85, 42.62, 40.43, 43.23, 48.68, 53.22, 40.49, 52.47, 36.8, 44.61, 48.3, 55.19, 48.22, 38.24, 64.27, 51.47, 37.73, 44.86, 39.86, 63.35, 39.55, 44.88, 39.88, 57.54, 39.63, 44.63, 60.05, 41.88, 46.92, 39.35, 39.23, 54.86, 52.07, 46.08, 38.62, 63.94, 43.35, 40.55, 37.38, 57.66, 37.25, 50.34, 53.32, 36.23, 60.46, 37.57, 50.02, 38.67, 48.64, 44.71, 45.7, 40.86]\n"
          ]
        }
      ]
    },
    {
      "cell_type": "markdown",
      "source": [
        "## Via Combinations"
      ],
      "metadata": {
        "id": "oBLPkmS5Oa4W"
      }
    },
    {
      "cell_type": "code",
      "source": [
        "waitingtimes = [waitingtime_short, waitingtime_long]\n",
        "driverpays = [driverpay_short, driverpay_long]\n",
        "ridedurations = [driverpay_short, driverpay_long]"
      ],
      "metadata": {
        "id": "a2Emr2FGOdXF"
      },
      "execution_count": null,
      "outputs": []
    },
    {
      "cell_type": "code",
      "source": [
        "np.random.seed(50)\n",
        "\n",
        "waitingtime_length = np.random.choice([0, 1], size=(250,), p=[1./2, 1/2])\n",
        "waitingtime_length"
      ],
      "metadata": {
        "colab": {
          "base_uri": "https://localhost:8080/"
        },
        "id": "EpM-p1O3On7K",
        "outputId": "1c8be9f8-08cb-4c36-c123-a8cd8f592ca4"
      },
      "execution_count": null,
      "outputs": [
        {
          "output_type": "execute_result",
          "data": {
            "text/plain": [
              "array([0, 0, 0, 0, 0, 1, 0, 1, 1, 0, 0, 0, 0, 1, 1, 1, 0, 1, 1, 0, 1, 1,\n",
              "       1, 1, 1, 0, 0, 0, 0, 1, 1, 1, 1, 0, 1, 0, 1, 1, 1, 0, 1, 1, 1, 0,\n",
              "       1, 1, 1, 0, 1, 0, 0, 1, 0, 0, 1, 0, 0, 1, 0, 0, 0, 0, 0, 1, 1, 1,\n",
              "       1, 1, 1, 0, 1, 1, 0, 1, 1, 1, 1, 0, 0, 0, 0, 1, 0, 0, 1, 1, 1, 1,\n",
              "       0, 1, 1, 1, 0, 1, 0, 1, 0, 0, 1, 0, 0, 0, 0, 0, 0, 1, 1, 0, 0, 1,\n",
              "       1, 1, 0, 1, 1, 0, 0, 1, 0, 1, 1, 0, 0, 0, 0, 0, 0, 1, 1, 0, 0, 0,\n",
              "       1, 0, 0, 0, 1, 1, 0, 0, 0, 0, 0, 1, 1, 0, 1, 1, 0, 1, 1, 1, 0, 0,\n",
              "       1, 1, 0, 1, 1, 1, 0, 0, 0, 0, 0, 0, 1, 0, 1, 1, 0, 0, 0, 1, 0, 1,\n",
              "       0, 1, 1, 0, 1, 0, 1, 1, 0, 0, 0, 0, 1, 1, 0, 0, 0, 0, 1, 0, 0, 0,\n",
              "       0, 1, 1, 1, 0, 1, 0, 1, 0, 1, 0, 0, 1, 0, 0, 0, 0, 1, 0, 0, 0, 0,\n",
              "       0, 1, 1, 1, 1, 0, 0, 1, 1, 0, 0, 0, 1, 0, 0, 1, 0, 1, 0, 0, 0, 1,\n",
              "       1, 1, 0, 0, 1, 0, 1, 0])"
            ]
          },
          "metadata": {},
          "execution_count": 18
        }
      ]
    },
    {
      "cell_type": "code",
      "source": [
        "waitingtime_lengths = repr(waitingtime_length).replace(\" \", \"\")\n",
        "print(waitingtime_lengths)"
      ],
      "metadata": {
        "colab": {
          "base_uri": "https://localhost:8080/"
        },
        "id": "cgxvTO8nOuF0",
        "outputId": "13a28fb8-8ce2-4ee1-8fa1-ab675fd4df73"
      },
      "execution_count": null,
      "outputs": [
        {
          "output_type": "stream",
          "name": "stdout",
          "text": [
            "array([0,0,0,0,0,1,0,1,1,0,0,0,0,1,1,1,0,1,1,0,1,1,\n",
            "1,1,1,0,0,0,0,1,1,1,1,0,1,0,1,1,1,0,1,1,1,0,\n",
            "1,1,1,0,1,0,0,1,0,0,1,0,0,1,0,0,0,0,0,1,1,1,\n",
            "1,1,1,0,1,1,0,1,1,1,1,0,0,0,0,1,0,0,1,1,1,1,\n",
            "0,1,1,1,0,1,0,1,0,0,1,0,0,0,0,0,0,1,1,0,0,1,\n",
            "1,1,0,1,1,0,0,1,0,1,1,0,0,0,0,0,0,1,1,0,0,0,\n",
            "1,0,0,0,1,1,0,0,0,0,0,1,1,0,1,1,0,1,1,1,0,0,\n",
            "1,1,0,1,1,1,0,0,0,0,0,0,1,0,1,1,0,0,0,1,0,1,\n",
            "0,1,1,0,1,0,1,1,0,0,0,0,1,1,0,0,0,0,1,0,0,0,\n",
            "0,1,1,1,0,1,0,1,0,1,0,0,1,0,0,0,0,1,0,0,0,0,\n",
            "0,1,1,1,1,0,0,1,1,0,0,0,1,0,0,1,0,1,0,0,0,1,\n",
            "1,1,0,0,1,0,1,0])\n"
          ]
        }
      ]
    },
    {
      "cell_type": "code",
      "source": [
        "np.random.seed(28)\n",
        "\n",
        "ridedurations_length = np.random.choice([0, 1], size=(250,), p=[1./2, 1/2])\n",
        "ridedurations_length"
      ],
      "metadata": {
        "colab": {
          "base_uri": "https://localhost:8080/"
        },
        "id": "8UwIkAB1O1ct",
        "outputId": "58eec041-5523-41bf-a07d-bd7005724fde"
      },
      "execution_count": null,
      "outputs": [
        {
          "output_type": "execute_result",
          "data": {
            "text/plain": [
              "array([1, 1, 0, 0, 1, 1, 0, 1, 1, 1, 0, 1, 0, 0, 1, 1, 0, 0, 0, 1, 0, 0,\n",
              "       1, 1, 1, 1, 0, 0, 1, 0, 1, 1, 0, 0, 1, 0, 1, 1, 1, 0, 0, 1, 0, 1,\n",
              "       1, 0, 1, 1, 1, 0, 1, 0, 1, 0, 1, 0, 1, 0, 0, 1, 1, 1, 1, 0, 1, 0,\n",
              "       1, 0, 1, 0, 1, 0, 1, 1, 0, 0, 0, 1, 0, 1, 0, 1, 0, 1, 1, 0, 1, 1,\n",
              "       1, 1, 1, 1, 0, 1, 0, 0, 0, 1, 0, 1, 0, 1, 0, 0, 0, 1, 0, 0, 1, 1,\n",
              "       1, 0, 0, 0, 0, 0, 1, 1, 0, 0, 1, 1, 0, 0, 0, 0, 1, 1, 0, 1, 0, 1,\n",
              "       1, 1, 0, 1, 1, 0, 0, 1, 0, 0, 0, 0, 0, 0, 1, 1, 1, 0, 1, 1, 0, 1,\n",
              "       1, 1, 0, 0, 0, 1, 0, 0, 1, 1, 0, 0, 1, 0, 0, 0, 0, 1, 1, 1, 0, 1,\n",
              "       0, 1, 1, 1, 0, 1, 0, 1, 0, 0, 1, 0, 1, 0, 1, 1, 0, 0, 1, 1, 1, 0,\n",
              "       0, 0, 1, 1, 0, 1, 1, 0, 0, 0, 1, 0, 0, 1, 0, 0, 1, 1, 0, 0, 1, 1,\n",
              "       1, 0, 1, 0, 1, 1, 1, 0, 1, 0, 0, 0, 1, 1, 0, 1, 0, 0, 0, 0, 1, 1,\n",
              "       1, 1, 0, 0, 0, 0, 0, 1])"
            ]
          },
          "metadata": {},
          "execution_count": 20
        }
      ]
    },
    {
      "cell_type": "code",
      "source": [
        "ridedurations_lengths = repr(ridedurations_length).replace(\" \", \"\")\n",
        "print(ridedurations_lengths)"
      ],
      "metadata": {
        "colab": {
          "base_uri": "https://localhost:8080/"
        },
        "id": "pbX8Af8hO6za",
        "outputId": "c4b79597-6973-4226-9ac9-48f9cc4f3d40"
      },
      "execution_count": null,
      "outputs": [
        {
          "output_type": "stream",
          "name": "stdout",
          "text": [
            "array([1,1,0,0,1,1,0,1,1,1,0,1,0,0,1,1,0,0,0,1,0,0,\n",
            "1,1,1,1,0,0,1,0,1,1,0,0,1,0,1,1,1,0,0,1,0,1,\n",
            "1,0,1,1,1,0,1,0,1,0,1,0,1,0,0,1,1,1,1,0,1,0,\n",
            "1,0,1,0,1,0,1,1,0,0,0,1,0,1,0,1,0,1,1,0,1,1,\n",
            "1,1,1,1,0,1,0,0,0,1,0,1,0,1,0,0,0,1,0,0,1,1,\n",
            "1,0,0,0,0,0,1,1,0,0,1,1,0,0,0,0,1,1,0,1,0,1,\n",
            "1,1,0,1,1,0,0,1,0,0,0,0,0,0,1,1,1,0,1,1,0,1,\n",
            "1,1,0,0,0,1,0,0,1,1,0,0,1,0,0,0,0,1,1,1,0,1,\n",
            "0,1,1,1,0,1,0,1,0,0,1,0,1,0,1,1,0,0,1,1,1,0,\n",
            "0,0,1,1,0,1,1,0,0,0,1,0,0,1,0,0,1,1,0,0,1,1,\n",
            "1,0,1,0,1,1,1,0,1,0,0,0,1,1,0,1,0,0,0,0,1,1,\n",
            "1,1,0,0,0,0,0,1])\n"
          ]
        }
      ]
    },
    {
      "cell_type": "code",
      "source": [
        "waitingtime_short = repr(waitingtime_short).replace(\".\", \"\").replace(\" \", \"\")\n",
        "print(waitingtime_short)"
      ],
      "metadata": {
        "colab": {
          "base_uri": "https://localhost:8080/"
        },
        "id": "n2hUw2_VO-xV",
        "outputId": "d310b909-ad65-4dc5-ba88-c6030490b80a"
      },
      "execution_count": null,
      "outputs": [
        {
          "output_type": "stream",
          "name": "stdout",
          "text": [
            "array([3,3,4,4,4,3,2,5,3,3,4,4,2,3,5,5,3,\n",
            "5,1,4,3,4,3,4,4,4,4,3,2,4,4,3,2,1,\n",
            "4,5,5,3,2,5,2,5,4,3,4,3,4,5,2,4,4,\n",
            "4,4,1,4,3,4,3,4,3])\n"
          ]
        }
      ]
    },
    {
      "cell_type": "code",
      "source": [
        "waitingtime_long = repr(waitingtime_long).replace(\".\", \"\").replace(\" \", \"\")\n",
        "print(waitingtime_long)"
      ],
      "metadata": {
        "colab": {
          "base_uri": "https://localhost:8080/"
        },
        "id": "jBFZCo2xPFuo",
        "outputId": "a9ab16d1-8222-4d1a-ec54-ce83b656d730"
      },
      "execution_count": null,
      "outputs": [
        {
          "output_type": "stream",
          "name": "stdout",
          "text": [
            "array([10,8,18,8,7,16,11,15,14,9,6,18,27,\n",
            "15,11,14,9,11,9,10,11,12,9,19,10,14,\n",
            "16,17,13,14,12,9,17,8,12,10,14,15,10,\n",
            "9,12,14,7,10,24,11,13,15,11,10,12,11,\n",
            "11,14,6,9,16,11,10,6,9,12,12,14,13,\n",
            "18,8,21,16,15,17,10,10,12,10,7,9,11,\n",
            "7,14,19,18,6,11,15,8,9,11,8,10,10,\n",
            "10,10,12,7,8,15,10,12,15,5,19,5,15,\n",
            "14,14,12,7,8,6,5,10,7,13,16,23,10,\n",
            "17,10,14,8,11,6,17,19,12,8,7,9,9,\n",
            "7,14,6,10,18,6,11,8,12,8,7,6,15,\n",
            "9,11,11,10,6,11,23,8,11,14,11,14,10,\n",
            "10,8,24,10,11,11,6,10,10,19,6,17,8,\n",
            "5,13,11,12,13,9,13,14,15,9,9,13,11,\n",
            "8,9,10,18,15,12,6,9,18,19,16,17,13,\n",
            "13,5,5,13,14,17,12,16,7,13,8,18,12,\n",
            "10,13,14,6,8,9,12,16,10,6,9,13,9,\n",
            "8,9,14,8,6,20,15,21,15,13,9,14,8,\n",
            "14,13,9,22,7,15,8,5,8,8,14,15,14,\n",
            "7,8,15,15,9,11,13,5,8,12,10,13,15,\n",
            "16,12,16,11,7,13,15,17,7,15,11,20,16,\n",
            "11,13,9,12,20,12,6,13,12,10,7,18,8,\n",
            "12,5,9,13,10,7,7,9,9,7,18,13,7,\n",
            "10,10,14,12,6,8,9,12,17,9,8,16,14,\n",
            "8,8,11,20,7,7,13,12,7,8,11,18,9,\n",
            "11,15,10,16,11,19,9,8,11,8,15,11,6,\n",
            "10,15,13,14,12,7,7,5,6,9,16,11,16,\n",
            "9,13,10,12,9,11,16,12,13,9,12,15,9,\n",
            "12,11,16,10,9,14,9,10,13,14,14,17,13,\n",
            "9,12,7,7,10,10,6,10,9,11,8,15,15,\n",
            "9,9,9,13,5,9,6,14,12,8,11,12,13,\n",
            "6,14,13,11,9,13,7,6,13,15,16,19,13,\n",
            "12,10,11,8,15,19,8,12,8,6,14,6])\n"
          ]
        }
      ]
    },
    {
      "cell_type": "code",
      "source": [
        "rideduration_short\n",
        "rideduration_short = repr(rideduration_short).replace(\".\", \"\").replace(\" \", \"\")\n",
        "print(rideduration_short)"
      ],
      "metadata": {
        "colab": {
          "base_uri": "https://localhost:8080/"
        },
        "id": "5xnEUdp2PKFS",
        "outputId": "8090c1c9-6921-4211-aa6d-4021dfffe966"
      },
      "execution_count": null,
      "outputs": [
        {
          "output_type": "stream",
          "name": "stdout",
          "text": [
            "array([13,25,14,27,23,17,16,29,20,28,28,32,30,\n",
            "32,15,30,25,31,14,12,31,29,18,23,14,32,\n",
            "21,30,31,22,30,26,13,2,31,33,25,29,24,\n",
            "16,22,27,30,28,32,31,31,31,24,1,27,32,\n",
            "17,11,13,19,18,19,23,27,18,21,19,25,32,\n",
            "13,32,18,27,21,26,24,29,29,24,22,33,22,\n",
            "26,26,9,25,23,31,33,17,14,15,20,12,28,\n",
            "17,15,31,32,27,33,21,33,33,21,26,19,29,\n",
            "28,29,15,17,27,30,33,22,30,14,19,19,24,\n",
            "11,28,7,17,32,21,26,15,30,14,31,22,30,\n",
            "28,26,30,27,22,10,28,28,31,23,28,19,26,\n",
            "26,23,27,8,28,8,16,19,25,32,23,7,24,\n",
            "18,18,12,10,30,22,32,18,23,27,20,29,32,\n",
            "24,24,10,29,31,24,18,25,32,32,22,28,31,\n",
            "29,27,27,16,26,25,23,25,27,13,30,32,16,\n",
            "31,26,27,22,25,25,19,22,30,12,16,30,18,\n",
            "29,30,28,9,15,32,5,17,29,30,33,15,15,\n",
            "30,25,23,9,32,33,22,32,29,4,15,26,29,\n",
            "30,29,20,30,22,12,16,27,22,31,25,20,13,\n",
            "27,27,27,16,21,14,22])\n"
          ]
        }
      ]
    },
    {
      "cell_type": "code",
      "source": [
        "rideduration_long = repr(rideduration_long).replace(\".\", \"\").replace(\" \", \"\")\n",
        "print(rideduration_long)"
      ],
      "metadata": {
        "colab": {
          "base_uri": "https://localhost:8080/"
        },
        "id": "BfqiV99hPQcR",
        "outputId": "6e5da6b2-5ba5-46bb-fa72-0ef27ce57530"
      },
      "execution_count": null,
      "outputs": [
        {
          "output_type": "stream",
          "name": "stdout",
          "text": [
            "array([33,52,48,35,45,43,55,78,47,35,44,36,36,\n",
            "37,56,43,48,52,40,44,39,52,39,44,45,39,\n",
            "43,33,70,35,41,45,34,37,35,34,44,48,34,\n",
            "37,37,43,40,53,61,48,44,50,33,38,36,43,\n",
            "55,54,34,45,34,38,45,36,45,58,45,44,43,\n",
            "38,33,39,49,66,52,44,36,50,55,38,42,54,\n",
            "34,38,45,34,34,36,68,34,44,34,43,70,35,\n",
            "35,57,52,41,34,37,40,40,42,44,40,36,54,\n",
            "45,37,55,57,48,50,40,41,41,43,51,39,47,\n",
            "39,53,38,39,44,39,49,39,43,58,46,63,46,\n",
            "41,42,43,39,65,45,42,45,43,46,44,34,40,\n",
            "38,40,45,49,38,48,34,41,45,51,45,36,59,\n",
            "47,35,42,37,58,37,42,37,53,37,41,55,39,\n",
            "43,37,37,50,48,43,36,58,40,38,35,53,35,\n",
            "46,49,34,55,35,46,36,33,45,41,42,38,47,\n",
            "36,47,41,33,39,35,47,39,39,38,46,38,36,\n",
            "48,44,40,42,43,52,39,36,36,45,46,39,43,\n",
            "39,34,38,40,42,39,36,40,40,46,47,57,40,\n",
            "38,33,35,47,55,38,43])\n"
          ]
        }
      ]
    },
    {
      "cell_type": "code",
      "source": [
        "arrays = [waitingtime_short, waitingtime_long,\n",
        "          rideduration_short, rideduration_long]\n",
        "\n",
        "for i in arrays:\n",
        "  print(repr(i).replace(\".\", \",\"))"
      ],
      "metadata": {
        "colab": {
          "base_uri": "https://localhost:8080/"
        },
        "id": "01DnkCIiPXAN",
        "outputId": "698346b6-2ae7-4e63-99f0-66e360c783ad"
      },
      "execution_count": null,
      "outputs": [
        {
          "output_type": "stream",
          "name": "stdout",
          "text": [
            "'array([3,3,4,4,4,3,2,5,3,3,4,4,2,3,5,5,3,\\n5,1,4,3,4,3,4,4,4,4,3,2,4,4,3,2,1,\\n4,5,5,3,2,5,2,5,4,3,4,3,4,5,2,4,4,\\n4,4,1,4,3,4,3,4,3])'\n",
            "'array([10,8,18,8,7,16,11,15,14,9,6,18,27,\\n15,11,14,9,11,9,10,11,12,9,19,10,14,\\n16,17,13,14,12,9,17,8,12,10,14,15,10,\\n9,12,14,7,10,24,11,13,15,11,10,12,11,\\n11,14,6,9,16,11,10,6,9,12,12,14,13,\\n18,8,21,16,15,17,10,10,12,10,7,9,11,\\n7,14,19,18,6,11,15,8,9,11,8,10,10,\\n10,10,12,7,8,15,10,12,15,5,19,5,15,\\n14,14,12,7,8,6,5,10,7,13,16,23,10,\\n17,10,14,8,11,6,17,19,12,8,7,9,9,\\n7,14,6,10,18,6,11,8,12,8,7,6,15,\\n9,11,11,10,6,11,23,8,11,14,11,14,10,\\n10,8,24,10,11,11,6,10,10,19,6,17,8,\\n5,13,11,12,13,9,13,14,15,9,9,13,11,\\n8,9,10,18,15,12,6,9,18,19,16,17,13,\\n13,5,5,13,14,17,12,16,7,13,8,18,12,\\n10,13,14,6,8,9,12,16,10,6,9,13,9,\\n8,9,14,8,6,20,15,21,15,13,9,14,8,\\n14,13,9,22,7,15,8,5,8,8,14,15,14,\\n7,8,15,15,9,11,13,5,8,12,10,13,15,\\n16,12,16,11,7,13,15,17,7,15,11,20,16,\\n11,13,9,12,20,12,6,13,12,10,7,18,8,\\n12,5,9,13,10,7,7,9,9,7,18,13,7,\\n10,10,14,12,6,8,9,12,17,9,8,16,14,\\n8,8,11,20,7,7,13,12,7,8,11,18,9,\\n11,15,10,16,11,19,9,8,11,8,15,11,6,\\n10,15,13,14,12,7,7,5,6,9,16,11,16,\\n9,13,10,12,9,11,16,12,13,9,12,15,9,\\n12,11,16,10,9,14,9,10,13,14,14,17,13,\\n9,12,7,7,10,10,6,10,9,11,8,15,15,\\n9,9,9,13,5,9,6,14,12,8,11,12,13,\\n6,14,13,11,9,13,7,6,13,15,16,19,13,\\n12,10,11,8,15,19,8,12,8,6,14,6])'\n",
            "'array([13,25,14,27,23,17,16,29,20,28,28,32,30,\\n32,15,30,25,31,14,12,31,29,18,23,14,32,\\n21,30,31,22,30,26,13,2,31,33,25,29,24,\\n16,22,27,30,28,32,31,31,31,24,1,27,32,\\n17,11,13,19,18,19,23,27,18,21,19,25,32,\\n13,32,18,27,21,26,24,29,29,24,22,33,22,\\n26,26,9,25,23,31,33,17,14,15,20,12,28,\\n17,15,31,32,27,33,21,33,33,21,26,19,29,\\n28,29,15,17,27,30,33,22,30,14,19,19,24,\\n11,28,7,17,32,21,26,15,30,14,31,22,30,\\n28,26,30,27,22,10,28,28,31,23,28,19,26,\\n26,23,27,8,28,8,16,19,25,32,23,7,24,\\n18,18,12,10,30,22,32,18,23,27,20,29,32,\\n24,24,10,29,31,24,18,25,32,32,22,28,31,\\n29,27,27,16,26,25,23,25,27,13,30,32,16,\\n31,26,27,22,25,25,19,22,30,12,16,30,18,\\n29,30,28,9,15,32,5,17,29,30,33,15,15,\\n30,25,23,9,32,33,22,32,29,4,15,26,29,\\n30,29,20,30,22,12,16,27,22,31,25,20,13,\\n27,27,27,16,21,14,22])'\n",
            "'array([33,52,48,35,45,43,55,78,47,35,44,36,36,\\n37,56,43,48,52,40,44,39,52,39,44,45,39,\\n43,33,70,35,41,45,34,37,35,34,44,48,34,\\n37,37,43,40,53,61,48,44,50,33,38,36,43,\\n55,54,34,45,34,38,45,36,45,58,45,44,43,\\n38,33,39,49,66,52,44,36,50,55,38,42,54,\\n34,38,45,34,34,36,68,34,44,34,43,70,35,\\n35,57,52,41,34,37,40,40,42,44,40,36,54,\\n45,37,55,57,48,50,40,41,41,43,51,39,47,\\n39,53,38,39,44,39,49,39,43,58,46,63,46,\\n41,42,43,39,65,45,42,45,43,46,44,34,40,\\n38,40,45,49,38,48,34,41,45,51,45,36,59,\\n47,35,42,37,58,37,42,37,53,37,41,55,39,\\n43,37,37,50,48,43,36,58,40,38,35,53,35,\\n46,49,34,55,35,46,36,33,45,41,42,38,47,\\n36,47,41,33,39,35,47,39,39,38,46,38,36,\\n48,44,40,42,43,52,39,36,36,45,46,39,43,\\n39,34,38,40,42,39,36,40,40,46,47,57,40,\\n38,33,35,47,55,38,43])'\n"
          ]
        }
      ]
    }
  ]
}